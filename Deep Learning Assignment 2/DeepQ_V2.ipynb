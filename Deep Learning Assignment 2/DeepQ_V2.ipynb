{
 "cells": [
  {
   "cell_type": "code",
   "execution_count": 174,
   "metadata": {
    "collapsed": true,
    "ExecuteTime": {
     "start_time": "2023-05-04T22:09:53.545293Z",
     "end_time": "2023-05-04T22:09:53.562382Z"
    }
   },
   "outputs": [],
   "source": [
    "import numpy as np\n",
    "import gym\n",
    "import tensorflow as tf\n",
    "from tensorflow.keras.layers import Dense, Flatten\n",
    "from tensorflow.keras.models import Sequential\n",
    "#from tensorflow.keras.optimizers import RMSprop\n",
    "from keras import optimizers\n",
    "\n",
    "from rl.agents.dqn import DQNAgent\n",
    "from rl.memory import SequentialMemory\n",
    "from rl.policy import EpsGreedyQPolicy,LinearAnnealedPolicy, BoltzmannQPolicy, GreedyQPolicy, MaxBoltzmannQPolicy, BoltzmannGumbelQPolicy, SoftmaxPolicy\n",
    "from rl.core import Processor"
   ]
  },
  {
   "cell_type": "code",
   "execution_count": 175,
   "outputs": [],
   "source": [
    "def create_agent(states, actions):\n",
    "    model = Sequential()\n",
    "    model.add(Flatten(input_shape = (1,states)))\n",
    "    model.add(Dense(24, activation='relu'))\n",
    "    model.add(Dense(24, activation='relu'))\n",
    "    model.add(Dense(24, activation='relu'))\n",
    "    model.add(Dense(actions, activation='linear'))\n",
    "    return model"
   ],
   "metadata": {
    "collapsed": false,
    "ExecuteTime": {
     "start_time": "2023-05-04T22:09:53.564377Z",
     "end_time": "2023-05-04T22:09:53.588289Z"
    }
   }
  },
  {
   "cell_type": "code",
   "execution_count": 176,
   "outputs": [],
   "source": [
    "class TaxiProcessor(Processor):\n",
    "    def process_observation(self, observation):\n",
    "        one_hot = np.zeros(500)\n",
    "        one_hot[observation] = 1\n",
    "        return one_hot\n",
    "\n",
    "    def process_reward(self, reward):\n",
    "        return reward"
   ],
   "metadata": {
    "collapsed": false,
    "ExecuteTime": {
     "start_time": "2023-05-04T22:09:53.578203Z",
     "end_time": "2023-05-04T22:09:53.595897Z"
    }
   }
  },
  {
   "cell_type": "code",
   "execution_count": 177,
   "outputs": [
    {
     "name": "stdout",
     "output_type": "stream",
     "text": [
      "No of state =  500\n",
      "No of actions = 6\n",
      "Model: \"sequential_26\"\n",
      "_________________________________________________________________\n",
      " Layer (type)                Output Shape              Param #   \n",
      "=================================================================\n",
      " flatten_26 (Flatten)        (None, 500)               0         \n",
      "                                                                 \n",
      " dense_104 (Dense)           (None, 24)                12024     \n",
      "                                                                 \n",
      " dense_105 (Dense)           (None, 24)                600       \n",
      "                                                                 \n",
      " dense_106 (Dense)           (None, 24)                600       \n",
      "                                                                 \n",
      " dense_107 (Dense)           (None, 6)                 150       \n",
      "                                                                 \n",
      "=================================================================\n",
      "Total params: 13,374\n",
      "Trainable params: 13,374\n",
      "Non-trainable params: 0\n",
      "_________________________________________________________________\n"
     ]
    }
   ],
   "source": [
    "env = gym.make(\"Taxi-v3\")\n",
    "print(\"No of state = \", env.observation_space.n)\n",
    "print(\"No of actions =\", env.action_space.n)\n",
    "model = create_agent(500, env.action_space.n)\n",
    "model.summary()"
   ],
   "metadata": {
    "collapsed": false,
    "ExecuteTime": {
     "start_time": "2023-05-04T22:09:53.599897Z",
     "end_time": "2023-05-04T22:09:53.670756Z"
    }
   }
  },
  {
   "cell_type": "code",
   "execution_count": 178,
   "outputs": [],
   "source": [
    "memory = SequentialMemory(limit=800000, window_length=1)\n",
    "processor = TaxiProcessor()\n",
    "\n",
    "policy = LinearAnnealedPolicy(EpsGreedyQPolicy(), attr='eps', value_max=1., value_min=.05, value_test=.005, nb_steps=10000)\n",
    "\n",
    "#policy = LinearAnnealedPolicy(MaxBoltzmannQPolicy(), attr='eps', value_max=1., value_min=.05, value_test=.005, nb_steps=10000)\n",
    "dqn = DQNAgent(model=model, nb_actions=env.action_space.n, processor=processor, memory=memory, nb_steps_warmup=1000, gamma=0.99, policy=policy, enable_double_dqn=False, target_model_update=5e-4)\n",
    "\n"
   ],
   "metadata": {
    "collapsed": false,
    "ExecuteTime": {
     "start_time": "2023-05-04T22:09:53.672757Z",
     "end_time": "2023-05-04T22:09:53.714400Z"
    }
   }
  },
  {
   "cell_type": "code",
   "execution_count": 179,
   "outputs": [
    {
     "name": "stdout",
     "output_type": "stream",
     "text": [
      "Training for 100000 steps ...\n",
      "Interval 1 (0 steps performed)\n",
      "10000/10000 [==============================] - 105s 10ms/step - reward: -2.4796\n",
      "51 episodes - episode_reward: -485.745 [-821.000, -170.000] - loss: 0.249 - mae: 3.888 - mean_q: -1.638 - mean_eps: 0.478 - prob: 1.000\n",
      "\n",
      "Interval 2 (10000 steps performed)\n",
      "10000/10000 [==============================] - 114s 11ms/step - reward: -1.1527\n",
      "50 episodes - episode_reward: -227.200 [-281.000, -66.000] - loss: 0.116 - mae: 6.776 - mean_q: -4.875 - mean_eps: 0.050 - prob: 1.000\n",
      "\n",
      "Interval 3 (20000 steps performed)\n",
      "10000/10000 [==============================] - 111s 11ms/step - reward: -1.1221\n",
      "53 episodes - episode_reward: -211.264 [-263.000, 11.000] - loss: 0.188 - mae: 9.193 - mean_q: -7.275 - mean_eps: 0.050 - prob: 1.000\n",
      "\n",
      "Interval 4 (30000 steps performed)\n",
      "10000/10000 [==============================] - 114s 11ms/step - reward: -1.1314\n",
      "62 episodes - episode_reward: -185.774 [-281.000, 11.000] - loss: 0.315 - mae: 11.058 - mean_q: -8.642 - mean_eps: 0.050 - prob: 1.000\n",
      "\n",
      "Interval 5 (40000 steps performed)\n",
      "10000/10000 [==============================] - 106s 11ms/step - reward: -1.0645\n",
      "85 episodes - episode_reward: -123.200 [-272.000, 14.000] - loss: 0.370 - mae: 11.934 - mean_q: -8.330 - mean_eps: 0.050 - prob: 1.000\n",
      "\n",
      "Interval 6 (50000 steps performed)\n",
      "10000/10000 [==============================] - 105s 11ms/step - reward: -0.9943\n",
      "98 episodes - episode_reward: -101.041 [-254.000, 14.000] - loss: 0.430 - mae: 11.745 - mean_q: -5.943 - mean_eps: 0.050 - prob: 1.000\n",
      "\n",
      "Interval 7 (60000 steps performed)\n",
      "10000/10000 [==============================] - 109s 11ms/step - reward: -0.9928\n",
      "101 episodes - episode_reward: -99.812 [-263.000, 14.000] - loss: 0.452 - mae: 10.954 - mean_q: -3.319 - mean_eps: 0.050 - prob: 1.000\n",
      "\n",
      "Interval 8 (70000 steps performed)\n",
      "10000/10000 [==============================] - 113s 11ms/step - reward: -1.0162\n",
      "97 episodes - episode_reward: -104.619 [-263.000, 13.000] - loss: 0.411 - mae: 9.637 - mean_q: -1.340 - mean_eps: 0.050 - prob: 1.000\n",
      "\n",
      "Interval 9 (80000 steps performed)\n",
      "10000/10000 [==============================] - 115s 11ms/step - reward: -0.6958\n",
      "248 episodes - episode_reward: -28.355 [-254.000, 14.000] - loss: 0.317 - mae: 7.864 - mean_q: 0.826 - mean_eps: 0.050 - prob: 1.000\n",
      "\n",
      "Interval 10 (90000 steps performed)\n",
      "10000/10000 [==============================] - 119s 12ms/step - reward: 0.1541\n",
      "done, took 1111.481 seconds\n"
     ]
    },
    {
     "data": {
      "text/plain": "<keras.callbacks.History at 0x23c341fdb40>"
     },
     "execution_count": 179,
     "metadata": {},
     "output_type": "execute_result"
    }
   ],
   "source": [
    "optimizer = tf.keras.optimizers.legacy.RMSprop(lr=1e-3)\n",
    "optimizer1 = optimizers.Adam(lr=1e-3)\n",
    "dqn.compile(optimizer1, metrics=['mae'])\n",
    "dqn.fit(env, nb_steps=100000, visualize=False, verbose=1)"
   ],
   "metadata": {
    "collapsed": false,
    "ExecuteTime": {
     "start_time": "2023-05-04T22:09:53.688006Z",
     "end_time": "2023-05-04T22:28:26.366740Z"
    }
   }
  },
  {
   "cell_type": "code",
   "execution_count": 180,
   "outputs": [
    {
     "name": "stdout",
     "output_type": "stream",
     "text": [
      "Testing for 100 episodes ...\n",
      "Episode 1: reward: 10.000, steps: 11\n",
      "Episode 2: reward: 9.000, steps: 12\n",
      "Episode 3: reward: 8.000, steps: 13\n",
      "Episode 4: reward: 8.000, steps: 13\n",
      "Episode 5: reward: 3.000, steps: 18\n",
      "Episode 6: reward: 12.000, steps: 9\n",
      "Episode 7: reward: 7.000, steps: 14\n",
      "Episode 8: reward: 9.000, steps: 12\n",
      "Episode 9: reward: 7.000, steps: 14\n",
      "Episode 10: reward: 8.000, steps: 13\n",
      "Episode 11: reward: 6.000, steps: 15\n",
      "Episode 12: reward: 6.000, steps: 15\n",
      "Episode 13: reward: 5.000, steps: 16\n",
      "Episode 14: reward: 5.000, steps: 16\n",
      "Episode 15: reward: 12.000, steps: 9\n",
      "Episode 16: reward: 11.000, steps: 10\n",
      "Episode 17: reward: 8.000, steps: 13\n",
      "Episode 18: reward: 9.000, steps: 12\n",
      "Episode 19: reward: 4.000, steps: 17\n",
      "Episode 20: reward: 6.000, steps: 15\n",
      "Episode 21: reward: 5.000, steps: 16\n",
      "Episode 22: reward: 11.000, steps: 10\n",
      "Episode 23: reward: 7.000, steps: 14\n",
      "Episode 24: reward: 9.000, steps: 12\n",
      "Episode 25: reward: 8.000, steps: 13\n",
      "Episode 26: reward: 3.000, steps: 18\n",
      "Episode 27: reward: 5.000, steps: 16\n",
      "Episode 28: reward: 4.000, steps: 17\n",
      "Episode 29: reward: 4.000, steps: 17\n",
      "Episode 30: reward: 10.000, steps: 11\n",
      "Episode 31: reward: 10.000, steps: 11\n",
      "Episode 32: reward: 7.000, steps: 14\n",
      "Episode 33: reward: 5.000, steps: 16\n",
      "Episode 34: reward: 6.000, steps: 15\n",
      "Episode 35: reward: 13.000, steps: 8\n",
      "Episode 36: reward: 10.000, steps: 11\n",
      "Episode 37: reward: 7.000, steps: 14\n",
      "Episode 38: reward: 7.000, steps: 14\n",
      "Episode 39: reward: 11.000, steps: 10\n",
      "Episode 40: reward: 5.000, steps: 16\n",
      "Episode 41: reward: 10.000, steps: 11\n",
      "Episode 42: reward: 10.000, steps: 11\n",
      "Episode 43: reward: 8.000, steps: 13\n",
      "Episode 44: reward: 7.000, steps: 14\n",
      "Episode 45: reward: 7.000, steps: 14\n",
      "Episode 46: reward: 9.000, steps: 12\n",
      "Episode 47: reward: 5.000, steps: 16\n",
      "Episode 48: reward: 6.000, steps: 15\n",
      "Episode 49: reward: 7.000, steps: 14\n",
      "Episode 50: reward: 6.000, steps: 15\n",
      "Episode 51: reward: 4.000, steps: 17\n",
      "Episode 52: reward: 9.000, steps: 12\n",
      "Episode 53: reward: -200.000, steps: 200\n",
      "Episode 54: reward: 6.000, steps: 15\n",
      "Episode 55: reward: 5.000, steps: 16\n",
      "Episode 56: reward: 4.000, steps: 17\n",
      "Episode 57: reward: 10.000, steps: 11\n",
      "Episode 58: reward: 9.000, steps: 12\n",
      "Episode 59: reward: 9.000, steps: 12\n",
      "Episode 60: reward: 8.000, steps: 13\n",
      "Episode 61: reward: 6.000, steps: 15\n",
      "Episode 62: reward: 3.000, steps: 18\n",
      "Episode 63: reward: 7.000, steps: 14\n",
      "Episode 64: reward: 9.000, steps: 12\n",
      "Episode 65: reward: 9.000, steps: 12\n",
      "Episode 66: reward: 11.000, steps: 10\n",
      "Episode 67: reward: 7.000, steps: 14\n",
      "Episode 68: reward: 8.000, steps: 13\n",
      "Episode 69: reward: 4.000, steps: 17\n",
      "Episode 70: reward: 8.000, steps: 13\n",
      "Episode 71: reward: 10.000, steps: 11\n",
      "Episode 72: reward: 14.000, steps: 7\n",
      "Episode 73: reward: 7.000, steps: 14\n",
      "Episode 74: reward: 14.000, steps: 7\n",
      "Episode 75: reward: 5.000, steps: 16\n",
      "Episode 76: reward: 4.000, steps: 17\n",
      "Episode 77: reward: 8.000, steps: 13\n",
      "Episode 78: reward: 8.000, steps: 13\n",
      "Episode 79: reward: 9.000, steps: 12\n",
      "Episode 80: reward: 13.000, steps: 8\n",
      "Episode 81: reward: 9.000, steps: 12\n",
      "Episode 82: reward: 11.000, steps: 10\n",
      "Episode 83: reward: 9.000, steps: 12\n",
      "Episode 84: reward: 8.000, steps: 13\n",
      "Episode 85: reward: 4.000, steps: 17\n",
      "Episode 86: reward: 12.000, steps: 9\n",
      "Episode 87: reward: 9.000, steps: 12\n",
      "Episode 88: reward: 6.000, steps: 15\n",
      "Episode 89: reward: 6.000, steps: 15\n",
      "Episode 90: reward: 8.000, steps: 13\n",
      "Episode 91: reward: 4.000, steps: 17\n",
      "Episode 92: reward: 7.000, steps: 14\n",
      "Episode 93: reward: 6.000, steps: 15\n",
      "Episode 94: reward: 10.000, steps: 11\n",
      "Episode 95: reward: 13.000, steps: 8\n",
      "Episode 96: reward: 6.000, steps: 15\n",
      "Episode 97: reward: 8.000, steps: 13\n",
      "Episode 98: reward: 10.000, steps: 11\n",
      "Episode 99: reward: 8.000, steps: 13\n",
      "Episode 100: reward: 10.000, steps: 11\n"
     ]
    }
   ],
   "source": [
    "env.reset()\n",
    "res = dqn.test(env, nb_episodes=100, visualize=False)\n"
   ],
   "metadata": {
    "collapsed": false,
    "ExecuteTime": {
     "start_time": "2023-05-04T22:28:26.366740Z",
     "end_time": "2023-05-04T22:28:27.634485Z"
    }
   }
  },
  {
   "cell_type": "code",
   "execution_count": 181,
   "outputs": [
    {
     "name": "stdout",
     "output_type": "stream",
     "text": [
      "5.67\n"
     ]
    }
   ],
   "source": [
    "res.history\n",
    "print(np.average(res.history['episode_reward']))"
   ],
   "metadata": {
    "collapsed": false,
    "ExecuteTime": {
     "start_time": "2023-05-04T22:28:27.634485Z",
     "end_time": "2023-05-04T22:28:27.650110Z"
    }
   }
  },
  {
   "cell_type": "code",
   "execution_count": 181,
   "outputs": [],
   "source": [],
   "metadata": {
    "collapsed": false,
    "ExecuteTime": {
     "start_time": "2023-05-04T22:28:27.650110Z",
     "end_time": "2023-05-04T22:28:27.697384Z"
    }
   }
  }
 ],
 "metadata": {
  "kernelspec": {
   "display_name": "Python 3",
   "language": "python",
   "name": "python3"
  },
  "language_info": {
   "codemirror_mode": {
    "name": "ipython",
    "version": 2
   },
   "file_extension": ".py",
   "mimetype": "text/x-python",
   "name": "python",
   "nbconvert_exporter": "python",
   "pygments_lexer": "ipython2",
   "version": "2.7.6"
  }
 },
 "nbformat": 4,
 "nbformat_minor": 0
}
