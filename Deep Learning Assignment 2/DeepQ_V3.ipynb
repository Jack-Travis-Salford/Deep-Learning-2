{
 "cells": [
  {
   "cell_type": "code",
   "execution_count": 45,
   "metadata": {
    "collapsed": true,
    "ExecuteTime": {
     "start_time": "2023-05-04T22:49:32.995022Z",
     "end_time": "2023-05-04T22:49:33.013423Z"
    }
   },
   "outputs": [],
   "source": [
    "import numpy as np\n",
    "import gym\n",
    "import tensorflow as tf\n",
    "from tensorflow.keras.layers import Dense, Flatten\n",
    "from tensorflow.keras.models import Sequential\n",
    "#from tensorflow.keras.optimizers import RMSprop\n",
    "from keras import optimizers\n",
    "\n",
    "from rl.agents.dqn import DQNAgent\n",
    "from rl.memory import SequentialMemory\n",
    "from rl.policy import EpsGreedyQPolicy,LinearAnnealedPolicy, BoltzmannQPolicy, GreedyQPolicy, MaxBoltzmannQPolicy, BoltzmannGumbelQPolicy, SoftmaxPolicy\n",
    "from rl.core import Processor"
   ]
  },
  {
   "cell_type": "code",
   "execution_count": 46,
   "outputs": [],
   "source": [
    "def create_agent(states, actions):\n",
    "    model = Sequential()\n",
    "    model.add(Flatten(input_shape = (1,states)))\n",
    "    model.add(Dense(24, activation='relu'))\n",
    "    model.add(Dense(24, activation='relu'))\n",
    "    model.add(Dense(24, activation='relu'))\n",
    "    model.add(Dense(actions, activation='linear'))\n",
    "    return model"
   ],
   "metadata": {
    "collapsed": false,
    "ExecuteTime": {
     "start_time": "2023-05-04T22:49:33.002328Z",
     "end_time": "2023-05-04T22:49:33.021538Z"
    }
   }
  },
  {
   "cell_type": "code",
   "execution_count": 47,
   "outputs": [],
   "source": [
    "class TaxiProcessor(Processor):\n",
    "    def process_observation(self, observation):\n",
    "        one_hot = np.zeros(500)\n",
    "        one_hot[observation] = 1\n",
    "        return one_hot\n",
    "\n",
    "    def process_reward(self, reward):\n",
    "        return reward"
   ],
   "metadata": {
    "collapsed": false,
    "ExecuteTime": {
     "start_time": "2023-05-04T22:49:33.018540Z",
     "end_time": "2023-05-04T22:49:33.031180Z"
    }
   }
  },
  {
   "cell_type": "code",
   "execution_count": 48,
   "outputs": [
    {
     "name": "stdout",
     "output_type": "stream",
     "text": [
      "No of state =  500\n",
      "No of actions = 6\n",
      "Model: \"sequential_6\"\n",
      "_________________________________________________________________\n",
      " Layer (type)                Output Shape              Param #   \n",
      "=================================================================\n",
      " flatten_6 (Flatten)         (None, 500)               0         \n",
      "                                                                 \n",
      " dense_24 (Dense)            (None, 24)                12024     \n",
      "                                                                 \n",
      " dense_25 (Dense)            (None, 24)                600       \n",
      "                                                                 \n",
      " dense_26 (Dense)            (None, 24)                600       \n",
      "                                                                 \n",
      " dense_27 (Dense)            (None, 6)                 150       \n",
      "                                                                 \n",
      "=================================================================\n",
      "Total params: 13,374\n",
      "Trainable params: 13,374\n",
      "Non-trainable params: 0\n",
      "_________________________________________________________________\n"
     ]
    }
   ],
   "source": [
    "env = gym.make(\"Taxi-v3\")\n",
    "print(\"No of state = \", env.observation_space.n)\n",
    "print(\"No of actions =\", env.action_space.n)\n",
    "model = create_agent(500, env.action_space.n)\n",
    "model.summary()"
   ],
   "metadata": {
    "collapsed": false,
    "ExecuteTime": {
     "start_time": "2023-05-04T22:49:33.034302Z",
     "end_time": "2023-05-04T22:49:33.110721Z"
    }
   }
  },
  {
   "cell_type": "code",
   "execution_count": 49,
   "outputs": [],
   "source": [
    "memory = SequentialMemory(limit=800000, window_length=1)\n",
    "processor = TaxiProcessor()\n",
    "\n",
    "policy = LinearAnnealedPolicy(EpsGreedyQPolicy(), attr='eps', value_max=1., value_min=.05, value_test=.005, nb_steps=10000)\n",
    "\n",
    "#policy = LinearAnnealedPolicy(MaxBoltzmannQPolicy(), attr='eps', value_max=1., value_min=.05, value_test=.005, nb_steps=10000)\n",
    "dqn = DQNAgent(model=model, nb_actions=env.action_space.n, processor=processor, memory=memory, nb_steps_warmup=1000, gamma=0.99, policy=policy, enable_double_dqn=False, target_model_update=5e-4)\n",
    "\n"
   ],
   "metadata": {
    "collapsed": false,
    "ExecuteTime": {
     "start_time": "2023-05-04T22:49:33.112722Z",
     "end_time": "2023-05-04T22:49:33.154755Z"
    }
   }
  },
  {
   "cell_type": "code",
   "execution_count": 50,
   "outputs": [
    {
     "name": "stdout",
     "output_type": "stream",
     "text": [
      "Training for 250000 steps ...\n",
      "Interval 1 (0 steps performed)\n",
      "10000/10000 [==============================] - 77s 8ms/step - reward: -2.5015\n",
      "51 episodes - episode_reward: -490.137 [-911.000, -149.000] - loss: 0.240 - mae: 4.084 - mean_q: -1.838 - mean_eps: 0.478 - prob: 1.000\n",
      "\n",
      "Interval 2 (10000 steps performed)\n",
      "10000/10000 [==============================] - 78s 8ms/step - reward: -1.1281\n",
      "50 episodes - episode_reward: -224.480 [-272.000, -150.000] - loss: 0.103 - mae: 7.173 - mean_q: -5.349 - mean_eps: 0.050 - prob: 1.000\n",
      "\n",
      "Interval 3 (20000 steps performed)\n",
      "10000/10000 [==============================] - 83s 8ms/step - reward: -1.1998\n",
      "52 episodes - episode_reward: -229.058 [-1028.000, -14.000] - loss: 0.231 - mae: 10.159 - mean_q: -8.705 - mean_eps: 0.050 - prob: 1.000\n",
      "\n",
      "Interval 4 (30000 steps performed)\n",
      "10000/10000 [==============================] - 85s 9ms/step - reward: -1.1326\n",
      "52 episodes - episode_reward: -220.269 [-263.000, -13.000] - loss: 0.370 - mae: 12.571 - mean_q: -11.216 - mean_eps: 0.050 - prob: 1.000\n",
      "\n",
      "Interval 5 (40000 steps performed)\n",
      "10000/10000 [==============================] - 85s 8ms/step - reward: -1.1074\n",
      "65 episodes - episode_reward: -169.846 [-362.000, 12.000] - loss: 0.491 - mae: 13.887 - mean_q: -10.997 - mean_eps: 0.050 - prob: 1.000\n",
      "\n",
      "Interval 6 (50000 steps performed)\n",
      "10000/10000 [==============================] - 86s 9ms/step - reward: -1.0678\n",
      "98 episodes - episode_reward: -108.673 [-911.000, 12.000] - loss: 0.601 - mae: 14.120 - mean_q: -9.442 - mean_eps: 0.050 - prob: 1.000\n",
      "\n",
      "Interval 7 (60000 steps performed)\n",
      "10000/10000 [==============================] - 87s 9ms/step - reward: -1.1290\n",
      "92 episodes - episode_reward: -122.620 [-1334.000, 12.000] - loss: 0.540 - mae: 12.403 - mean_q: -4.954 - mean_eps: 0.050 - prob: 1.000\n",
      "\n",
      "Interval 8 (70000 steps performed)\n",
      "10000/10000 [==============================] - 88s 9ms/step - reward: -1.0303\n",
      "97 episodes - episode_reward: -105.598 [-272.000, 15.000] - loss: 0.415 - mae: 9.988 - mean_q: -1.231 - mean_eps: 0.050 - prob: 1.000\n",
      "\n",
      "Interval 9 (80000 steps performed)\n",
      "10000/10000 [==============================] - 87s 9ms/step - reward: -1.0366\n",
      "100 episodes - episode_reward: -104.350 [-281.000, 15.000] - loss: 0.364 - mae: 9.197 - mean_q: -0.450 - mean_eps: 0.050 - prob: 1.000\n",
      "\n",
      "Interval 10 (90000 steps performed)\n",
      "10000/10000 [==============================] - 94s 9ms/step - reward: -0.9442\n",
      "128 episodes - episode_reward: -73.898 [-254.000, 15.000] - loss: 0.335 - mae: 8.913 - mean_q: -0.812 - mean_eps: 0.050 - prob: 1.000\n",
      "\n",
      "Interval 11 (100000 steps performed)\n",
      "10000/10000 [==============================] - 95s 10ms/step - reward: -0.8854\n",
      "165 episodes - episode_reward: -54.024 [-272.000, 14.000] - loss: 0.371 - mae: 9.760 - mean_q: -2.078 - mean_eps: 0.050 - prob: 1.000\n",
      "\n",
      "Interval 12 (110000 steps performed)\n",
      "10000/10000 [==============================] - 105s 10ms/step - reward: -0.8869\n",
      "156 episodes - episode_reward: -56.308 [-254.000, 15.000] - loss: 0.510 - mae: 11.194 - mean_q: -3.908 - mean_eps: 0.050 - prob: 1.000\n",
      "\n",
      "Interval 13 (120000 steps performed)\n",
      "10000/10000 [==============================] - 103s 10ms/step - reward: -0.8818\n",
      "162 episodes - episode_reward: -54.969 [-263.000, 14.000] - loss: 0.676 - mae: 12.429 - mean_q: -5.154 - mean_eps: 0.050 - prob: 1.000\n",
      "\n",
      "Interval 14 (130000 steps performed)\n",
      "10000/10000 [==============================] - 106s 11ms/step - reward: -0.8911\n",
      "150 episodes - episode_reward: -59.493 [-263.000, 15.000] - loss: 0.743 - mae: 12.616 - mean_q: -3.486 - mean_eps: 0.050 - prob: 1.000\n",
      "\n",
      "Interval 15 (140000 steps performed)\n",
      "10000/10000 [==============================] - 107s 11ms/step - reward: -0.4936\n",
      "321 episodes - episode_reward: -15.368 [-245.000, 14.000] - loss: 0.597 - mae: 10.596 - mean_q: 1.979 - mean_eps: 0.050 - prob: 1.000\n",
      "\n",
      "Interval 16 (150000 steps performed)\n",
      "10000/10000 [==============================] - 105s 11ms/step - reward: -0.0682\n",
      "513 episodes - episode_reward: -1.339 [-245.000, 15.000] - loss: 0.375 - mae: 7.967 - mean_q: 6.687 - mean_eps: 0.050 - prob: 1.000\n",
      "\n",
      "Interval 17 (160000 steps performed)\n",
      "10000/10000 [==============================] - 108s 11ms/step - reward: 0.2474\n",
      "661 episodes - episode_reward: 3.747 [-200.000, 15.000] - loss: 0.209 - mae: 5.779 - mean_q: 9.185 - mean_eps: 0.050 - prob: 1.000\n",
      "\n",
      "Interval 18 (170000 steps performed)\n",
      "10000/10000 [==============================] - 114s 11ms/step - reward: 0.3581\n",
      "711 episodes - episode_reward: 5.041 [-21.000, 15.000] - loss: 0.179 - mae: 5.776 - mean_q: 9.187 - mean_eps: 0.050 - prob: 1.000\n",
      "\n",
      "Interval 19 (180000 steps performed)\n",
      "10000/10000 [==============================] - 115s 12ms/step - reward: 0.3722\n",
      "710 episodes - episode_reward: 5.239 [-31.000, 15.000] - loss: 0.178 - mae: 5.874 - mean_q: 9.446 - mean_eps: 0.050 - prob: 1.000\n",
      "\n",
      "Interval 20 (190000 steps performed)\n",
      "10000/10000 [==============================] - 118s 12ms/step - reward: 0.3389\n",
      "716 episodes - episode_reward: 4.740 [-33.000, 15.000] - loss: 0.174 - mae: 5.972 - mean_q: 9.701 - mean_eps: 0.050 - prob: 1.000\n",
      "\n",
      "Interval 21 (200000 steps performed)\n",
      "10000/10000 [==============================] - 117s 12ms/step - reward: 0.3854\n",
      "721 episodes - episode_reward: 5.337 [-22.000, 15.000] - loss: 0.160 - mae: 6.030 - mean_q: 9.845 - mean_eps: 0.050 - prob: 1.000\n",
      "\n",
      "Interval 22 (210000 steps performed)\n",
      "10000/10000 [==============================] - 116s 12ms/step - reward: 0.4178\n",
      "730 episodes - episode_reward: 5.722 [-20.000, 15.000] - loss: 0.155 - mae: 6.101 - mean_q: 9.999 - mean_eps: 0.050 - prob: 1.000\n",
      "\n",
      "Interval 23 (220000 steps performed)\n",
      "10000/10000 [==============================] - 123s 12ms/step - reward: 0.3677\n",
      "716 episodes - episode_reward: 5.151 [-43.000, 15.000] - loss: 0.150 - mae: 6.148 - mean_q: 10.103 - mean_eps: 0.050 - prob: 1.000\n",
      "\n",
      "Interval 24 (230000 steps performed)\n",
      "10000/10000 [==============================] - 126s 13ms/step - reward: 0.3923\n",
      "723 episodes - episode_reward: 5.423 [-14.000, 15.000] - loss: 0.132 - mae: 6.216 - mean_q: 10.250 - mean_eps: 0.050 - prob: 1.000\n",
      "\n",
      "Interval 25 (240000 steps performed)\n",
      "10000/10000 [==============================] - 126s 13ms/step - reward: 0.3650\n",
      "done, took 2535.008 seconds\n"
     ]
    },
    {
     "data": {
      "text/plain": "<keras.callbacks.History at 0x2b57f40ff10>"
     },
     "execution_count": 50,
     "metadata": {},
     "output_type": "execute_result"
    }
   ],
   "source": [
    "optimizer = tf.keras.optimizers.legacy.RMSprop(lr=1e-3)\n",
    "optimizer1 = optimizers.Adam(lr=1e-3)\n",
    "dqn.compile(optimizer1, metrics=['mae'])\n",
    "dqn.fit(env, nb_steps=250000, visualize=False, verbose=1)"
   ],
   "metadata": {
    "collapsed": false,
    "ExecuteTime": {
     "start_time": "2023-05-04T22:49:33.131927Z",
     "end_time": "2023-05-04T23:31:48.664929Z"
    }
   }
  },
  {
   "cell_type": "code",
   "execution_count": 51,
   "outputs": [
    {
     "name": "stdout",
     "output_type": "stream",
     "text": [
      "Testing for 100 episodes ...\n",
      "Episode 1: reward: 8.000, steps: 13\n",
      "Episode 2: reward: 7.000, steps: 14\n",
      "Episode 3: reward: 9.000, steps: 12\n",
      "Episode 4: reward: 5.000, steps: 16\n",
      "Episode 5: reward: 5.000, steps: 16\n",
      "Episode 6: reward: 4.000, steps: 17\n",
      "Episode 7: reward: 12.000, steps: 9\n",
      "Episode 8: reward: 13.000, steps: 8\n",
      "Episode 9: reward: 8.000, steps: 13\n",
      "Episode 10: reward: 12.000, steps: 9\n",
      "Episode 11: reward: 10.000, steps: 11\n",
      "Episode 12: reward: 7.000, steps: 14\n",
      "Episode 13: reward: 11.000, steps: 10\n",
      "Episode 14: reward: 7.000, steps: 14\n",
      "Episode 15: reward: 6.000, steps: 15\n",
      "Episode 16: reward: 11.000, steps: 10\n",
      "Episode 17: reward: 5.000, steps: 16\n",
      "Episode 18: reward: 8.000, steps: 13\n",
      "Episode 19: reward: 9.000, steps: 12\n",
      "Episode 20: reward: 8.000, steps: 13\n",
      "Episode 21: reward: 9.000, steps: 12\n",
      "Episode 22: reward: 4.000, steps: 17\n",
      "Episode 23: reward: 10.000, steps: 11\n",
      "Episode 24: reward: 4.000, steps: 17\n",
      "Episode 25: reward: 12.000, steps: 9\n",
      "Episode 26: reward: 6.000, steps: 15\n",
      "Episode 27: reward: 14.000, steps: 7\n",
      "Episode 28: reward: 8.000, steps: 13\n",
      "Episode 29: reward: 10.000, steps: 11\n",
      "Episode 30: reward: 9.000, steps: 12\n",
      "Episode 31: reward: 11.000, steps: 10\n",
      "Episode 32: reward: 9.000, steps: 12\n",
      "Episode 33: reward: 5.000, steps: 16\n",
      "Episode 34: reward: 9.000, steps: 12\n",
      "Episode 35: reward: 6.000, steps: 15\n",
      "Episode 36: reward: 7.000, steps: 14\n",
      "Episode 37: reward: 6.000, steps: 15\n",
      "Episode 38: reward: 7.000, steps: 14\n",
      "Episode 39: reward: 10.000, steps: 11\n",
      "Episode 40: reward: 6.000, steps: 15\n",
      "Episode 41: reward: 11.000, steps: 10\n",
      "Episode 42: reward: 7.000, steps: 14\n",
      "Episode 43: reward: 5.000, steps: 16\n",
      "Episode 44: reward: 4.000, steps: 17\n",
      "Episode 45: reward: 7.000, steps: 14\n",
      "Episode 46: reward: 11.000, steps: 10\n",
      "Episode 47: reward: 4.000, steps: 17\n",
      "Episode 48: reward: 8.000, steps: 13\n",
      "Episode 49: reward: 3.000, steps: 18\n",
      "Episode 50: reward: 8.000, steps: 13\n",
      "Episode 51: reward: 8.000, steps: 13\n",
      "Episode 52: reward: 10.000, steps: 11\n",
      "Episode 53: reward: 6.000, steps: 15\n",
      "Episode 54: reward: 8.000, steps: 13\n",
      "Episode 55: reward: 8.000, steps: 13\n",
      "Episode 56: reward: 6.000, steps: 15\n",
      "Episode 57: reward: 7.000, steps: 14\n",
      "Episode 58: reward: 10.000, steps: 11\n",
      "Episode 59: reward: 9.000, steps: 12\n",
      "Episode 60: reward: 6.000, steps: 15\n",
      "Episode 61: reward: 11.000, steps: 10\n",
      "Episode 62: reward: 5.000, steps: 16\n",
      "Episode 63: reward: 6.000, steps: 15\n",
      "Episode 64: reward: 10.000, steps: 11\n",
      "Episode 65: reward: 8.000, steps: 13\n",
      "Episode 66: reward: 6.000, steps: 15\n",
      "Episode 67: reward: 9.000, steps: 12\n",
      "Episode 68: reward: 8.000, steps: 13\n",
      "Episode 69: reward: 7.000, steps: 14\n",
      "Episode 70: reward: 7.000, steps: 14\n",
      "Episode 71: reward: 12.000, steps: 9\n",
      "Episode 72: reward: 7.000, steps: 14\n",
      "Episode 73: reward: 15.000, steps: 6\n",
      "Episode 74: reward: 12.000, steps: 9\n",
      "Episode 75: reward: 13.000, steps: 8\n",
      "Episode 76: reward: 10.000, steps: 11\n",
      "Episode 77: reward: 7.000, steps: 14\n",
      "Episode 78: reward: 11.000, steps: 10\n",
      "Episode 79: reward: 6.000, steps: 15\n",
      "Episode 80: reward: 4.000, steps: 17\n",
      "Episode 81: reward: 6.000, steps: 15\n",
      "Episode 82: reward: 5.000, steps: 16\n",
      "Episode 83: reward: 9.000, steps: 12\n",
      "Episode 84: reward: 5.000, steps: 16\n",
      "Episode 85: reward: 5.000, steps: 16\n",
      "Episode 86: reward: 6.000, steps: 15\n",
      "Episode 87: reward: 14.000, steps: 7\n",
      "Episode 88: reward: 8.000, steps: 13\n",
      "Episode 89: reward: 6.000, steps: 15\n",
      "Episode 90: reward: 7.000, steps: 14\n",
      "Episode 91: reward: 6.000, steps: 15\n",
      "Episode 92: reward: 3.000, steps: 18\n",
      "Episode 93: reward: 8.000, steps: 13\n",
      "Episode 94: reward: 7.000, steps: 14\n",
      "Episode 95: reward: 9.000, steps: 12\n",
      "Episode 96: reward: 9.000, steps: 12\n",
      "Episode 97: reward: 7.000, steps: 14\n",
      "Episode 98: reward: 4.000, steps: 17\n",
      "Episode 99: reward: 7.000, steps: 14\n",
      "Episode 100: reward: 12.000, steps: 9\n"
     ]
    }
   ],
   "source": [
    "env.reset()\n",
    "res = dqn.test(env, nb_episodes=100, visualize=False)\n"
   ],
   "metadata": {
    "collapsed": false,
    "ExecuteTime": {
     "start_time": "2023-05-04T23:31:48.657844Z",
     "end_time": "2023-05-04T23:31:49.570162Z"
    }
   }
  },
  {
   "cell_type": "code",
   "execution_count": 52,
   "outputs": [
    {
     "name": "stdout",
     "output_type": "stream",
     "text": [
      "7.9\n"
     ]
    }
   ],
   "source": [
    "res.history\n",
    "print(np.average(res.history['episode_reward']))"
   ],
   "metadata": {
    "collapsed": false,
    "ExecuteTime": {
     "start_time": "2023-05-04T23:31:49.572160Z",
     "end_time": "2023-05-04T23:31:49.614719Z"
    }
   }
  },
  {
   "cell_type": "code",
   "execution_count": 52,
   "outputs": [],
   "source": [],
   "metadata": {
    "collapsed": false,
    "ExecuteTime": {
     "start_time": "2023-05-04T23:31:49.587878Z",
     "end_time": "2023-05-04T23:31:49.623829Z"
    }
   }
  }
 ],
 "metadata": {
  "kernelspec": {
   "display_name": "Python 3",
   "language": "python",
   "name": "python3"
  },
  "language_info": {
   "codemirror_mode": {
    "name": "ipython",
    "version": 2
   },
   "file_extension": ".py",
   "mimetype": "text/x-python",
   "name": "python",
   "nbconvert_exporter": "python",
   "pygments_lexer": "ipython2",
   "version": "2.7.6"
  }
 },
 "nbformat": 4,
 "nbformat_minor": 0
}
