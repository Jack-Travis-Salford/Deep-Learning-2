{
 "cells": [
  {
   "cell_type": "code",
   "execution_count": 23,
   "metadata": {
    "collapsed": true,
    "ExecuteTime": {
     "start_time": "2023-05-05T00:00:14.992616Z",
     "end_time": "2023-05-05T00:00:15.020925Z"
    }
   },
   "outputs": [],
   "source": [
    "import numpy as np\n",
    "import gym\n",
    "import tensorflow as tf\n",
    "#from tensorflow.keras.layers import Dense, Flatten\n",
    "from keras.layers import Dense, Flatten\n",
    "#from tensorflow.keras.models import Sequential\n",
    "from keras.models import Sequential\n",
    "#from tensorflow.keras.optimizers import RMSprop\n",
    "from keras import optimizers\n",
    "\n",
    "from rl.agents.dqn import DQNAgent\n",
    "from rl.memory import SequentialMemory\n",
    "from rl.policy import EpsGreedyQPolicy,LinearAnnealedPolicy, BoltzmannQPolicy, GreedyQPolicy, MaxBoltzmannQPolicy, BoltzmannGumbelQPolicy, SoftmaxPolicy\n",
    "from rl.core import Processor"
   ]
  },
  {
   "cell_type": "code",
   "execution_count": 24,
   "outputs": [],
   "source": [
    "def create_agent(states, actions):\n",
    "    model = Sequential()\n",
    "    model.add(Flatten(input_shape = (1,states)))\n",
    "    model.add(Dense(24, activation='relu'))\n",
    "    model.add(Dense(24, activation='relu'))\n",
    "    model.add(Dense(24, activation='relu'))\n",
    "    model.add(Dense(actions, activation='linear'))\n",
    "    return model"
   ],
   "metadata": {
    "collapsed": false,
    "ExecuteTime": {
     "start_time": "2023-05-05T00:00:15.009055Z",
     "end_time": "2023-05-05T00:00:15.043706Z"
    }
   }
  },
  {
   "cell_type": "code",
   "execution_count": 25,
   "outputs": [],
   "source": [
    "class TaxiProcessor(Processor):\n",
    "    def process_observation(self, observation):\n",
    "        one_hot = np.zeros(500)\n",
    "        one_hot[observation] = 1\n",
    "        return one_hot\n",
    "\n",
    "    def process_reward(self, reward):\n",
    "        return reward"
   ],
   "metadata": {
    "collapsed": false,
    "ExecuteTime": {
     "start_time": "2023-05-05T00:00:15.023988Z",
     "end_time": "2023-05-05T00:00:15.044738Z"
    }
   }
  },
  {
   "cell_type": "code",
   "execution_count": 26,
   "outputs": [
    {
     "name": "stdout",
     "output_type": "stream",
     "text": [
      "No of state =  500\n",
      "No of actions = 6\n",
      "Model: \"sequential_3\"\n",
      "_________________________________________________________________\n",
      " Layer (type)                Output Shape              Param #   \n",
      "=================================================================\n",
      " flatten_3 (Flatten)         (None, 500)               0         \n",
      "                                                                 \n",
      " dense_12 (Dense)            (None, 24)                12024     \n",
      "                                                                 \n",
      " dense_13 (Dense)            (None, 24)                600       \n",
      "                                                                 \n",
      " dense_14 (Dense)            (None, 24)                600       \n",
      "                                                                 \n",
      " dense_15 (Dense)            (None, 6)                 150       \n",
      "                                                                 \n",
      "=================================================================\n",
      "Total params: 13,374\n",
      "Trainable params: 13,374\n",
      "Non-trainable params: 0\n",
      "_________________________________________________________________\n"
     ]
    }
   ],
   "source": [
    "env = gym.make(\"Taxi-v3\")\n",
    "print(\"No of state = \", env.observation_space.n)\n",
    "print(\"No of actions =\", env.action_space.n)\n",
    "model = create_agent(500, env.action_space.n)\n",
    "model.summary()"
   ],
   "metadata": {
    "collapsed": false,
    "ExecuteTime": {
     "start_time": "2023-05-05T00:00:15.044738Z",
     "end_time": "2023-05-05T00:00:15.116418Z"
    }
   }
  },
  {
   "cell_type": "code",
   "execution_count": 27,
   "outputs": [],
   "source": [
    "memory = SequentialMemory(limit=800000, window_length=1)\n",
    "processor = TaxiProcessor()\n",
    "\n",
    "policy = LinearAnnealedPolicy(EpsGreedyQPolicy(), attr='eps', value_max=1., value_min=.05, value_test=.005, nb_steps=10000)\n",
    "\n",
    "#policy = LinearAnnealedPolicy(MaxBoltzmannQPolicy(), attr='eps', value_max=1., value_min=.05, value_test=.005, nb_steps=10000)\n",
    "dqn = DQNAgent(model=model, nb_actions=env.action_space.n, processor=processor, memory=memory, nb_steps_warmup=1000, gamma=0.99, policy=policy, enable_double_dqn=True, target_model_update=5e-3)\n",
    "\n"
   ],
   "metadata": {
    "collapsed": false,
    "ExecuteTime": {
     "start_time": "2023-05-05T00:00:15.118418Z",
     "end_time": "2023-05-05T00:00:15.158947Z"
    }
   }
  },
  {
   "cell_type": "code",
   "execution_count": 28,
   "outputs": [
    {
     "name": "stdout",
     "output_type": "stream",
     "text": [
      "Training for 250000 steps ...\n",
      "Interval 1 (0 steps performed)\n",
      "10000/10000 [==============================] - 76s 8ms/step - reward: -2.4883\n",
      "50 episodes - episode_reward: -496.660 [-857.000, -209.000] - loss: 0.655 - mae: 12.801 - mean_q: -11.858 - mean_eps: 0.478 - prob: 1.000\n",
      "\n",
      "Interval 2 (10000 steps performed)\n",
      "10000/10000 [==============================] - 82s 8ms/step - reward: -1.1563\n",
      "50 episodes - episode_reward: -230.260 [-353.000, -165.000] - loss: 1.355 - mae: 21.519 - mean_q: -21.993 - mean_eps: 0.050 - prob: 1.000\n",
      "\n",
      "Interval 3 (20000 steps performed)\n",
      "10000/10000 [==============================] - 84s 8ms/step - reward: -1.1668\n",
      "56 episodes - episode_reward: -209.482 [-722.000, 12.000] - loss: 2.774 - mae: 29.366 - mean_q: -31.263 - mean_eps: 0.050 - prob: 1.000\n",
      "\n",
      "Interval 4 (30000 steps performed)\n",
      "10000/10000 [==============================] - 86s 9ms/step - reward: -1.1101\n",
      "65 episodes - episode_reward: -170.969 [-341.000, 12.000] - loss: 2.860 - mae: 28.705 - mean_q: -30.077 - mean_eps: 0.050 - prob: 1.000\n",
      "\n",
      "Interval 5 (40000 steps performed)\n",
      "10000/10000 [==============================] - 96s 10ms/step - reward: -1.1308\n",
      "73 episodes - episode_reward: -155.219 [-641.000, 12.000] - loss: 1.657 - mae: 18.873 - mean_q: -16.790 - mean_eps: 0.050 - prob: 1.000\n",
      "\n",
      "Interval 6 (50000 steps performed)\n",
      "10000/10000 [==============================] - 95s 9ms/step - reward: -1.0747\n",
      "75 episodes - episode_reward: -141.747 [-281.000, 13.000] - loss: 1.468 - mae: 17.722 - mean_q: -13.138 - mean_eps: 0.050 - prob: 1.000\n",
      "\n",
      "Interval 7 (60000 steps performed)\n",
      "10000/10000 [==============================] - 95s 9ms/step - reward: -1.0285\n",
      "95 episodes - episode_reward: -107.884 [-290.000, 14.000] - loss: 1.236 - mae: 15.233 - mean_q: -9.567 - mean_eps: 0.050 - prob: 1.000\n",
      "\n",
      "Interval 8 (70000 steps performed)\n",
      "10000/10000 [==============================] - 95s 10ms/step - reward: -0.9712\n",
      "113 episodes - episode_reward: -86.540 [-272.000, 13.000] - loss: 1.547 - mae: 16.259 - mean_q: -10.643 - mean_eps: 0.050 - prob: 1.000\n",
      "\n",
      "Interval 9 (80000 steps performed)\n",
      "10000/10000 [==============================] - 96s 10ms/step - reward: -0.9493\n",
      "124 episodes - episode_reward: -77.218 [-272.000, 14.000] - loss: 1.138 - mae: 10.447 - mean_q: -1.213 - mean_eps: 0.050 - prob: 1.000\n",
      "\n",
      "Interval 10 (90000 steps performed)\n",
      "10000/10000 [==============================] - 100s 10ms/step - reward: -0.5077\n",
      "324 episodes - episode_reward: -15.472 [-272.000, 14.000] - loss: 0.717 - mae: 8.327 - mean_q: 1.949 - mean_eps: 0.050 - prob: 1.000\n",
      "\n",
      "Interval 11 (100000 steps performed)\n",
      "10000/10000 [==============================] - 97s 10ms/step - reward: -0.1810\n",
      "463 episodes - episode_reward: -4.037 [-245.000, 15.000] - loss: 0.290 - mae: 5.321 - mean_q: 8.005 - mean_eps: 0.050 - prob: 1.000\n",
      "\n",
      "Interval 12 (110000 steps performed)\n",
      "10000/10000 [==============================] - 100s 10ms/step - reward: 0.3536\n",
      "705 episodes - episode_reward: 5.018 [-116.000, 15.000] - loss: 0.207 - mae: 5.490 - mean_q: 8.939 - mean_eps: 0.050 - prob: 1.000\n",
      "\n",
      "Interval 13 (120000 steps performed)\n",
      "10000/10000 [==============================] - 104s 10ms/step - reward: 0.3173\n",
      "695 episodes - episode_reward: 4.563 [-186.000, 15.000] - loss: 0.180 - mae: 5.665 - mean_q: 9.306 - mean_eps: 0.050 - prob: 1.000\n",
      "\n",
      "Interval 14 (130000 steps performed)\n",
      "10000/10000 [==============================] - 109s 11ms/step - reward: 0.3764\n",
      "715 episodes - episode_reward: 5.252 [-19.000, 15.000] - loss: 0.157 - mae: 5.793 - mean_q: 9.597 - mean_eps: 0.050 - prob: 1.000\n",
      "\n",
      "Interval 15 (140000 steps performed)\n",
      "10000/10000 [==============================] - 120s 12ms/step - reward: 0.3911\n",
      "719 episodes - episode_reward: 5.451 [-29.000, 15.000] - loss: 0.153 - mae: 5.911 - mean_q: 9.830 - mean_eps: 0.050 - prob: 1.000\n",
      "\n",
      "Interval 16 (150000 steps performed)\n",
      "10000/10000 [==============================] - 112s 11ms/step - reward: 0.4034\n",
      "733 episodes - episode_reward: 5.498 [-17.000, 15.000] - loss: 0.137 - mae: 6.001 - mean_q: 10.037 - mean_eps: 0.050 - prob: 1.000\n",
      "\n",
      "Interval 17 (160000 steps performed)\n",
      "10000/10000 [==============================] - 118s 12ms/step - reward: 0.3830\n",
      "719 episodes - episode_reward: 5.335 [-20.000, 15.000] - loss: 0.137 - mae: 6.081 - mean_q: 10.192 - mean_eps: 0.050 - prob: 1.000\n",
      "\n",
      "Interval 18 (170000 steps performed)\n",
      "10000/10000 [==============================] - 122s 12ms/step - reward: 0.3713\n",
      "719 episodes - episode_reward: 5.188 [-39.000, 15.000] - loss: 0.113 - mae: 6.155 - mean_q: 10.342 - mean_eps: 0.050 - prob: 1.000\n",
      "\n",
      "Interval 19 (180000 steps performed)\n",
      "10000/10000 [==============================] - 120s 12ms/step - reward: 0.3647\n",
      "718 episodes - episode_reward: 5.070 [-21.000, 15.000] - loss: 0.119 - mae: 6.217 - mean_q: 10.473 - mean_eps: 0.050 - prob: 1.000\n",
      "\n",
      "Interval 20 (190000 steps performed)\n",
      "10000/10000 [==============================] - 120s 12ms/step - reward: 0.3476\n",
      "709 episodes - episode_reward: 4.876 [-34.000, 15.000] - loss: 0.102 - mae: 6.279 - mean_q: 10.603 - mean_eps: 0.050 - prob: 1.000\n",
      "\n",
      "Interval 21 (200000 steps performed)\n",
      "10000/10000 [==============================] - 127s 13ms/step - reward: 0.3659\n",
      "719 episodes - episode_reward: 5.089 [-24.000, 15.000] - loss: 0.097 - mae: 6.334 - mean_q: 10.705 - mean_eps: 0.050 - prob: 1.000\n",
      "\n",
      "Interval 22 (210000 steps performed)\n",
      "10000/10000 [==============================] - 134s 13ms/step - reward: 0.3896\n",
      "726 episodes - episode_reward: 5.383 [-20.000, 14.000] - loss: 0.096 - mae: 6.385 - mean_q: 10.825 - mean_eps: 0.050 - prob: 1.000\n",
      "\n",
      "Interval 23 (220000 steps performed)\n",
      "10000/10000 [==============================] - 132s 13ms/step - reward: 0.3602\n",
      "715 episodes - episode_reward: 5.032 [-20.000, 15.000] - loss: 0.091 - mae: 6.426 - mean_q: 10.899 - mean_eps: 0.050 - prob: 1.000\n",
      "\n",
      "Interval 24 (230000 steps performed)\n",
      "10000/10000 [==============================] - 131s 13ms/step - reward: 0.3557\n",
      "712 episodes - episode_reward: 4.987 [-28.000, 15.000] - loss: 0.089 - mae: 6.449 - mean_q: 10.952 - mean_eps: 0.050 - prob: 1.000\n",
      "\n",
      "Interval 25 (240000 steps performed)\n",
      "10000/10000 [==============================] - 136s 14ms/step - reward: 0.3428\n",
      "done, took 2688.276 seconds\n"
     ]
    },
    {
     "data": {
      "text/plain": "<keras.callbacks.History at 0x1b118e460b0>"
     },
     "execution_count": 28,
     "metadata": {},
     "output_type": "execute_result"
    }
   ],
   "source": [
    "optimizer = tf.keras.optimizers.legacy.RMSprop(lr=1e-3)\n",
    "optimizer1 = optimizers.Adam(lr=1e-3)\n",
    "dqn.compile(optimizer1, metrics=['mae'])\n",
    "dqn.fit(env, nb_steps=250000, visualize=False, verbose=1)"
   ],
   "metadata": {
    "collapsed": false,
    "ExecuteTime": {
     "start_time": "2023-05-05T00:00:15.131675Z",
     "end_time": "2023-05-05T00:45:03.868265Z"
    }
   }
  },
  {
   "cell_type": "code",
   "execution_count": 29,
   "outputs": [
    {
     "name": "stdout",
     "output_type": "stream",
     "text": [
      "Testing for 100 episodes ...\n",
      "Episode 1: reward: 12.000, steps: 9\n",
      "Episode 2: reward: 7.000, steps: 14\n",
      "Episode 3: reward: 4.000, steps: 17\n",
      "Episode 4: reward: 5.000, steps: 16\n",
      "Episode 5: reward: 8.000, steps: 13\n",
      "Episode 6: reward: 10.000, steps: 11\n",
      "Episode 7: reward: 14.000, steps: 7\n",
      "Episode 8: reward: 6.000, steps: 15\n",
      "Episode 9: reward: 7.000, steps: 14\n",
      "Episode 10: reward: 11.000, steps: 10\n",
      "Episode 11: reward: 10.000, steps: 11\n",
      "Episode 12: reward: 10.000, steps: 11\n",
      "Episode 13: reward: 3.000, steps: 18\n",
      "Episode 14: reward: 8.000, steps: 13\n",
      "Episode 15: reward: 4.000, steps: 17\n",
      "Episode 16: reward: 13.000, steps: 8\n",
      "Episode 17: reward: 10.000, steps: 11\n",
      "Episode 18: reward: 7.000, steps: 14\n",
      "Episode 19: reward: 6.000, steps: 15\n",
      "Episode 20: reward: 10.000, steps: 11\n",
      "Episode 21: reward: 4.000, steps: 17\n",
      "Episode 22: reward: 4.000, steps: 17\n",
      "Episode 23: reward: 5.000, steps: 16\n",
      "Episode 24: reward: 10.000, steps: 11\n",
      "Episode 25: reward: 11.000, steps: 10\n",
      "Episode 26: reward: 8.000, steps: 13\n",
      "Episode 27: reward: 8.000, steps: 13\n",
      "Episode 28: reward: 12.000, steps: 9\n",
      "Episode 29: reward: 8.000, steps: 13\n",
      "Episode 30: reward: 10.000, steps: 11\n",
      "Episode 31: reward: 9.000, steps: 12\n",
      "Episode 32: reward: 8.000, steps: 13\n",
      "Episode 33: reward: 10.000, steps: 11\n",
      "Episode 34: reward: 9.000, steps: 12\n",
      "Episode 35: reward: 5.000, steps: 16\n",
      "Episode 36: reward: 6.000, steps: 15\n",
      "Episode 37: reward: 6.000, steps: 15\n",
      "Episode 38: reward: 5.000, steps: 16\n",
      "Episode 39: reward: 6.000, steps: 15\n",
      "Episode 40: reward: 11.000, steps: 10\n",
      "Episode 41: reward: 12.000, steps: 9\n",
      "Episode 42: reward: 5.000, steps: 16\n",
      "Episode 43: reward: 3.000, steps: 18\n",
      "Episode 44: reward: 6.000, steps: 15\n",
      "Episode 45: reward: 8.000, steps: 13\n",
      "Episode 46: reward: 8.000, steps: 13\n",
      "Episode 47: reward: 11.000, steps: 10\n",
      "Episode 48: reward: 13.000, steps: 8\n",
      "Episode 49: reward: 9.000, steps: 12\n",
      "Episode 50: reward: 6.000, steps: 15\n",
      "Episode 51: reward: 10.000, steps: 11\n",
      "Episode 52: reward: 6.000, steps: 15\n",
      "Episode 53: reward: 14.000, steps: 7\n",
      "Episode 54: reward: 4.000, steps: 17\n",
      "Episode 55: reward: 6.000, steps: 15\n",
      "Episode 56: reward: 11.000, steps: 10\n",
      "Episode 57: reward: 9.000, steps: 12\n",
      "Episode 58: reward: 12.000, steps: 9\n",
      "Episode 59: reward: 7.000, steps: 14\n",
      "Episode 60: reward: 10.000, steps: 11\n",
      "Episode 61: reward: 4.000, steps: 17\n",
      "Episode 62: reward: 11.000, steps: 10\n",
      "Episode 63: reward: 8.000, steps: 13\n",
      "Episode 64: reward: 6.000, steps: 15\n",
      "Episode 65: reward: 8.000, steps: 13\n",
      "Episode 66: reward: 8.000, steps: 13\n",
      "Episode 67: reward: 9.000, steps: 12\n",
      "Episode 68: reward: 7.000, steps: 14\n",
      "Episode 69: reward: 6.000, steps: 15\n",
      "Episode 70: reward: 5.000, steps: 16\n",
      "Episode 71: reward: 5.000, steps: 16\n",
      "Episode 72: reward: 13.000, steps: 8\n",
      "Episode 73: reward: 9.000, steps: 12\n",
      "Episode 74: reward: 7.000, steps: 14\n",
      "Episode 75: reward: 3.000, steps: 18\n",
      "Episode 76: reward: 14.000, steps: 7\n",
      "Episode 77: reward: 8.000, steps: 13\n",
      "Episode 78: reward: 6.000, steps: 15\n",
      "Episode 79: reward: 6.000, steps: 15\n",
      "Episode 80: reward: 5.000, steps: 16\n",
      "Episode 81: reward: 4.000, steps: 17\n",
      "Episode 82: reward: 10.000, steps: 11\n",
      "Episode 83: reward: 3.000, steps: 18\n",
      "Episode 84: reward: 8.000, steps: 13\n",
      "Episode 85: reward: 8.000, steps: 13\n",
      "Episode 86: reward: 9.000, steps: 12\n",
      "Episode 87: reward: 4.000, steps: 17\n",
      "Episode 88: reward: 5.000, steps: 16\n",
      "Episode 89: reward: 7.000, steps: 14\n",
      "Episode 90: reward: 6.000, steps: 15\n",
      "Episode 91: reward: 6.000, steps: 15\n",
      "Episode 92: reward: 7.000, steps: 14\n",
      "Episode 93: reward: 10.000, steps: 11\n",
      "Episode 94: reward: 9.000, steps: 12\n",
      "Episode 95: reward: 10.000, steps: 11\n",
      "Episode 96: reward: 4.000, steps: 17\n",
      "Episode 97: reward: 9.000, steps: 12\n",
      "Episode 98: reward: 8.000, steps: 13\n",
      "Episode 99: reward: 6.000, steps: 15\n",
      "Episode 100: reward: 3.000, steps: 18\n"
     ]
    }
   ],
   "source": [
    "env.reset()\n",
    "res = dqn.test(env, nb_episodes=100, visualize=False)\n"
   ],
   "metadata": {
    "collapsed": false,
    "ExecuteTime": {
     "start_time": "2023-05-05T00:45:03.811448Z",
     "end_time": "2023-05-05T00:45:04.632312Z"
    }
   }
  },
  {
   "cell_type": "code",
   "execution_count": 30,
   "outputs": [
    {
     "name": "stdout",
     "output_type": "stream",
     "text": [
      "7.74\n"
     ]
    }
   ],
   "source": [
    "res.history\n",
    "print(np.average(res.history['episode_reward']))"
   ],
   "metadata": {
    "collapsed": false,
    "ExecuteTime": {
     "start_time": "2023-05-05T00:45:04.634312Z",
     "end_time": "2023-05-05T00:45:04.677350Z"
    }
   }
  },
  {
   "cell_type": "code",
   "execution_count": 30,
   "outputs": [],
   "source": [],
   "metadata": {
    "collapsed": false,
    "ExecuteTime": {
     "start_time": "2023-05-05T00:45:04.649153Z",
     "end_time": "2023-05-05T00:45:04.684352Z"
    }
   }
  }
 ],
 "metadata": {
  "kernelspec": {
   "display_name": "Python 3",
   "language": "python",
   "name": "python3"
  },
  "language_info": {
   "codemirror_mode": {
    "name": "ipython",
    "version": 2
   },
   "file_extension": ".py",
   "mimetype": "text/x-python",
   "name": "python",
   "nbconvert_exporter": "python",
   "pygments_lexer": "ipython2",
   "version": "2.7.6"
  }
 },
 "nbformat": 4,
 "nbformat_minor": 0
}
