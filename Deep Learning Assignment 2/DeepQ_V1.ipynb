{
 "cells": [
  {
   "cell_type": "code",
   "execution_count": 85,
   "metadata": {
    "collapsed": true,
    "ExecuteTime": {
     "start_time": "2023-05-04T20:11:13.571324Z",
     "end_time": "2023-05-04T20:11:13.601530Z"
    }
   },
   "outputs": [],
   "source": [
    "import numpy as np\n",
    "import gym\n",
    "import tensorflow as tf\n",
    "from tensorflow.keras.layers import Dense, Flatten\n",
    "from tensorflow.keras.models import Sequential\n",
    "#from tensorflow.keras.optimizers import RMSprop\n",
    "from keras import optimizers\n",
    "\n",
    "from rl.agents.dqn import DQNAgent\n",
    "from rl.memory import SequentialMemory\n",
    "from rl.policy import EpsGreedyQPolicy,LinearAnnealedPolicy, BoltzmannQPolicy\n",
    "from rl.core import Processor"
   ]
  },
  {
   "cell_type": "code",
   "execution_count": 86,
   "outputs": [],
   "source": [
    "def create_agent(states, actions):\n",
    "    model = Sequential()\n",
    "    model.add(Flatten(input_shape = (1,states)))\n",
    "    model.add(Dense(24, activation='relu'))\n",
    "    model.add(Dense(24, activation='relu'))\n",
    "    model.add(Dense(24, activation='relu'))\n",
    "    model.add(Dense(actions, activation='linear'))\n",
    "    return model"
   ],
   "metadata": {
    "collapsed": false,
    "ExecuteTime": {
     "start_time": "2023-05-04T20:11:13.591425Z",
     "end_time": "2023-05-04T20:11:13.607630Z"
    }
   }
  },
  {
   "cell_type": "code",
   "execution_count": 87,
   "outputs": [],
   "source": [
    "class TaxiProcessor(Processor):\n",
    "    def process_observation(self, observation):\n",
    "        one_hot = np.zeros(500)\n",
    "        one_hot[observation] = 1\n",
    "        return one_hot\n",
    "\n",
    "    def process_reward(self, reward):\n",
    "        return reward"
   ],
   "metadata": {
    "collapsed": false,
    "ExecuteTime": {
     "start_time": "2023-05-04T20:11:13.605630Z",
     "end_time": "2023-05-04T20:11:13.618819Z"
    }
   }
  },
  {
   "cell_type": "code",
   "execution_count": 88,
   "outputs": [
    {
     "name": "stdout",
     "output_type": "stream",
     "text": [
      "No of state =  500\n",
      "No of actions = 6\n",
      "Model: \"sequential_12\"\n",
      "_________________________________________________________________\n",
      " Layer (type)                Output Shape              Param #   \n",
      "=================================================================\n",
      " flatten_12 (Flatten)        (None, 500)               0         \n",
      "                                                                 \n",
      " dense_48 (Dense)            (None, 24)                12024     \n",
      "                                                                 \n",
      " dense_49 (Dense)            (None, 24)                600       \n",
      "                                                                 \n",
      " dense_50 (Dense)            (None, 24)                600       \n",
      "                                                                 \n",
      " dense_51 (Dense)            (None, 6)                 150       \n",
      "                                                                 \n",
      "=================================================================\n",
      "Total params: 13,374\n",
      "Trainable params: 13,374\n",
      "Non-trainable params: 0\n",
      "_________________________________________________________________\n"
     ]
    }
   ],
   "source": [
    "env = gym.make(\"Taxi-v3\")\n",
    "print(\"No of state = \", env.observation_space.n)\n",
    "print(\"No of actions =\", env.action_space.n)\n",
    "model = create_agent(500, env.action_space.n)\n",
    "model.summary()"
   ],
   "metadata": {
    "collapsed": false,
    "ExecuteTime": {
     "start_time": "2023-05-04T20:11:13.620816Z",
     "end_time": "2023-05-04T20:11:13.701690Z"
    }
   }
  },
  {
   "cell_type": "code",
   "execution_count": 89,
   "outputs": [],
   "source": [
    "memory = SequentialMemory(limit=80000, window_length=1)\n",
    "processor = TaxiProcessor()\n",
    "\n",
    "policy = LinearAnnealedPolicy(EpsGreedyQPolicy(), attr='eps', value_max=1., value_min=.05, value_test=.005, nb_steps=10000)\n",
    "\n",
    "dqn = DQNAgent(model=model, nb_actions=env.action_space.n, processor=processor, memory=memory,\n",
    "               nb_steps_warmup=1000, gamma=0.99, policy=policy, enable_double_dqn=False, target_model_update=1e-3)"
   ],
   "metadata": {
    "collapsed": false,
    "ExecuteTime": {
     "start_time": "2023-05-04T20:11:13.699689Z",
     "end_time": "2023-05-04T20:11:13.741559Z"
    }
   }
  },
  {
   "cell_type": "code",
   "execution_count": 90,
   "outputs": [
    {
     "name": "stderr",
     "output_type": "stream",
     "text": [
      "C:\\Users\\jackt\\anaconda3\\lib\\site-packages\\keras\\optimizers\\legacy\\adam.py:117: UserWarning: The `lr` argument is deprecated, use `learning_rate` instead.\n",
      "  super().__init__(name, **kwargs)\n"
     ]
    },
    {
     "name": "stdout",
     "output_type": "stream",
     "text": [
      "Training for 100000 steps ...\n",
      "Interval 1 (0 steps performed)\n",
      "10000/10000 [==============================] - 78s 8ms/step - reward: -2.5783\n",
      "50 episodes - episode_reward: -513.080 [-875.000, -194.000] - loss: 0.278 - mae: 5.396 - mean_q: -3.367 - mean_eps: 0.478 - prob: 1.000\n",
      "\n",
      "Interval 2 (10000 steps performed)\n",
      "10000/10000 [==============================] - 92s 9ms/step - reward: -1.1764\n",
      "52 episodes - episode_reward: -228.135 [-623.000, -1.000] - loss: 0.236 - mae: 10.756 - mean_q: -9.637 - mean_eps: 0.050 - prob: 1.000\n",
      "\n",
      "Interval 3 (20000 steps performed)\n",
      "10000/10000 [==============================] - 91s 9ms/step - reward: -1.1509\n",
      "57 episodes - episode_reward: -202.018 [-578.000, 7.000] - loss: 0.583 - mae: 14.398 - mean_q: -12.859 - mean_eps: 0.050 - prob: 1.000\n",
      "\n",
      "Interval 4 (30000 steps performed)\n",
      "10000/10000 [==============================] - 91s 9ms/step - reward: -1.1038\n",
      "64 episodes - episode_reward: -169.250 [-398.000, 10.000] - loss: 0.865 - mae: 16.182 - mean_q: -12.294 - mean_eps: 0.050 - prob: 1.000\n",
      "\n",
      "Interval 5 (40000 steps performed)\n",
      "10000/10000 [==============================] - 94s 9ms/step - reward: -1.1485\n",
      "60 episodes - episode_reward: -195.033 [-623.000, 10.000] - loss: 0.901 - mae: 14.630 - mean_q: -5.599 - mean_eps: 0.050 - prob: 1.000\n",
      "\n",
      "Interval 6 (50000 steps performed)\n",
      "10000/10000 [==============================] - 91s 9ms/step - reward: -1.0990\n",
      "67 episodes - episode_reward: -163.642 [-254.000, 12.000] - loss: 0.665 - mae: 11.705 - mean_q: -1.040 - mean_eps: 0.050 - prob: 1.000\n",
      "\n",
      "Interval 7 (60000 steps performed)\n",
      "10000/10000 [==============================] - 92s 9ms/step - reward: -1.0249\n",
      "98 episodes - episode_reward: -102.806 [-290.000, 14.000] - loss: 0.427 - mae: 8.531 - mean_q: 0.171 - mean_eps: 0.050 - prob: 1.000\n",
      "\n",
      "Interval 8 (70000 steps performed)\n",
      "10000/10000 [==============================] - 99s 10ms/step - reward: -0.7384\n",
      "218 episodes - episode_reward: -34.835 [-281.000, 13.000] - loss: 0.501 - mae: 8.485 - mean_q: 0.568 - mean_eps: 0.050 - prob: 1.000\n",
      "\n",
      "Interval 9 (80000 steps performed)\n",
      "10000/10000 [==============================] - 106s 11ms/step - reward: -0.4999\n",
      "309 episodes - episode_reward: -16.055 [-272.000, 15.000] - loss: 0.622 - mae: 8.611 - mean_q: 1.379 - mean_eps: 0.050 - prob: 1.000\n",
      "\n",
      "Interval 10 (90000 steps performed)\n",
      "10000/10000 [==============================] - 101s 10ms/step - reward: -0.4735\n",
      "done, took 934.530 seconds\n"
     ]
    },
    {
     "data": {
      "text/plain": "<keras.callbacks.History at 0x2892b5a33a0>"
     },
     "execution_count": 90,
     "metadata": {},
     "output_type": "execute_result"
    }
   ],
   "source": [
    "optimizer = tf.keras.optimizers.legacy.RMSprop(lr=1e-3)\n",
    "#optimizer1 = optimizers.Adam(lr=1e-3)\n",
    "dqn.compile(optimizer, metrics=['mae'])\n",
    "dqn.fit(env, nb_steps=100000, visualize=False, verbose=1)"
   ],
   "metadata": {
    "collapsed": false,
    "ExecuteTime": {
     "start_time": "2023-05-04T20:11:13.713302Z",
     "end_time": "2023-05-04T20:26:48.940306Z"
    }
   }
  },
  {
   "cell_type": "code",
   "execution_count": 91,
   "outputs": [
    {
     "name": "stdout",
     "output_type": "stream",
     "text": [
      "Testing for 100 episodes ...\n",
      "Episode 1: reward: 2.000, steps: 19\n",
      "Episode 2: reward: 5.000, steps: 16\n",
      "Episode 3: reward: 13.000, steps: 8\n",
      "Episode 4: reward: 9.000, steps: 12\n",
      "Episode 5: reward: 6.000, steps: 15\n",
      "Episode 6: reward: 2.000, steps: 19\n",
      "Episode 7: reward: 7.000, steps: 14\n",
      "Episode 8: reward: 10.000, steps: 11\n",
      "Episode 9: reward: 5.000, steps: 16\n",
      "Episode 10: reward: 5.000, steps: 16\n",
      "Episode 11: reward: 4.000, steps: 17\n",
      "Episode 12: reward: -200.000, steps: 200\n",
      "Episode 13: reward: 8.000, steps: 13\n",
      "Episode 14: reward: 9.000, steps: 12\n",
      "Episode 15: reward: 5.000, steps: 16\n",
      "Episode 16: reward: 10.000, steps: 11\n",
      "Episode 17: reward: 5.000, steps: 16\n",
      "Episode 18: reward: 2.000, steps: 19\n",
      "Episode 19: reward: 10.000, steps: 11\n",
      "Episode 20: reward: 0.000, steps: 21\n",
      "Episode 21: reward: 6.000, steps: 15\n",
      "Episode 22: reward: 5.000, steps: 16\n",
      "Episode 23: reward: 4.000, steps: 17\n",
      "Episode 24: reward: 3.000, steps: 18\n",
      "Episode 25: reward: 8.000, steps: 13\n",
      "Episode 26: reward: 11.000, steps: 10\n",
      "Episode 27: reward: 7.000, steps: 14\n",
      "Episode 28: reward: -200.000, steps: 200\n",
      "Episode 29: reward: -200.000, steps: 200\n",
      "Episode 30: reward: 4.000, steps: 17\n",
      "Episode 31: reward: 12.000, steps: 9\n",
      "Episode 32: reward: 11.000, steps: 10\n",
      "Episode 33: reward: 6.000, steps: 15\n",
      "Episode 34: reward: 8.000, steps: 13\n",
      "Episode 35: reward: 2.000, steps: 19\n",
      "Episode 36: reward: 6.000, steps: 15\n",
      "Episode 37: reward: 4.000, steps: 17\n",
      "Episode 38: reward: 3.000, steps: 18\n",
      "Episode 39: reward: 7.000, steps: 14\n",
      "Episode 40: reward: 5.000, steps: 16\n",
      "Episode 41: reward: -200.000, steps: 200\n",
      "Episode 42: reward: -200.000, steps: 200\n",
      "Episode 43: reward: 5.000, steps: 16\n",
      "Episode 44: reward: 11.000, steps: 10\n",
      "Episode 45: reward: 7.000, steps: 14\n",
      "Episode 46: reward: 2.000, steps: 19\n",
      "Episode 47: reward: 6.000, steps: 15\n",
      "Episode 48: reward: 4.000, steps: 17\n",
      "Episode 49: reward: -200.000, steps: 200\n",
      "Episode 50: reward: 4.000, steps: 17\n",
      "Episode 51: reward: 3.000, steps: 18\n",
      "Episode 52: reward: 10.000, steps: 11\n",
      "Episode 53: reward: 3.000, steps: 18\n",
      "Episode 54: reward: 5.000, steps: 16\n",
      "Episode 55: reward: 7.000, steps: 14\n",
      "Episode 56: reward: 10.000, steps: 11\n",
      "Episode 57: reward: 8.000, steps: 13\n",
      "Episode 58: reward: 5.000, steps: 16\n",
      "Episode 59: reward: 10.000, steps: 11\n",
      "Episode 60: reward: 12.000, steps: 9\n",
      "Episode 61: reward: -200.000, steps: 200\n",
      "Episode 62: reward: 5.000, steps: 16\n",
      "Episode 63: reward: -200.000, steps: 200\n",
      "Episode 64: reward: 3.000, steps: 18\n",
      "Episode 65: reward: 5.000, steps: 16\n",
      "Episode 66: reward: 8.000, steps: 13\n",
      "Episode 67: reward: 9.000, steps: 12\n",
      "Episode 68: reward: 4.000, steps: 17\n",
      "Episode 69: reward: 7.000, steps: 14\n",
      "Episode 70: reward: 5.000, steps: 16\n",
      "Episode 71: reward: 10.000, steps: 11\n",
      "Episode 72: reward: 13.000, steps: 8\n",
      "Episode 73: reward: -200.000, steps: 200\n",
      "Episode 74: reward: 9.000, steps: 12\n",
      "Episode 75: reward: 5.000, steps: 16\n",
      "Episode 76: reward: 7.000, steps: 14\n",
      "Episode 77: reward: 8.000, steps: 13\n",
      "Episode 78: reward: 6.000, steps: 15\n",
      "Episode 79: reward: -200.000, steps: 200\n",
      "Episode 80: reward: 12.000, steps: 9\n",
      "Episode 81: reward: 4.000, steps: 17\n",
      "Episode 82: reward: 6.000, steps: 15\n",
      "Episode 83: reward: 12.000, steps: 9\n",
      "Episode 84: reward: 4.000, steps: 17\n",
      "Episode 85: reward: 12.000, steps: 9\n",
      "Episode 86: reward: 7.000, steps: 14\n",
      "Episode 87: reward: 9.000, steps: 12\n",
      "Episode 88: reward: 9.000, steps: 12\n",
      "Episode 89: reward: 7.000, steps: 14\n",
      "Episode 90: reward: 10.000, steps: 11\n",
      "Episode 91: reward: -200.000, steps: 200\n",
      "Episode 92: reward: 13.000, steps: 8\n",
      "Episode 93: reward: 9.000, steps: 12\n",
      "Episode 94: reward: -200.000, steps: 200\n",
      "Episode 95: reward: 7.000, steps: 14\n",
      "Episode 96: reward: 7.000, steps: 14\n",
      "Episode 97: reward: 9.000, steps: 12\n",
      "Episode 98: reward: 9.000, steps: 12\n",
      "Episode 99: reward: 12.000, steps: 9\n",
      "Episode 100: reward: 10.000, steps: 11\n"
     ]
    }
   ],
   "source": [
    "env.reset()\n",
    "res = dqn.test(env, nb_episodes=100, visualize=False)\n"
   ],
   "metadata": {
    "collapsed": false,
    "ExecuteTime": {
     "start_time": "2023-05-04T20:26:48.942300Z",
     "end_time": "2023-05-04T20:26:51.455992Z"
    }
   }
  },
  {
   "cell_type": "code",
   "execution_count": 92,
   "outputs": [
    {
     "name": "stdout",
     "output_type": "stream",
     "text": [
      "-17.87\n"
     ]
    }
   ],
   "source": [
    "res.history\n",
    "print(np.average(res.history['episode_reward']))"
   ],
   "metadata": {
    "collapsed": false,
    "ExecuteTime": {
     "start_time": "2023-05-04T20:26:51.456996Z",
     "end_time": "2023-05-04T20:26:51.501504Z"
    }
   }
  },
  {
   "cell_type": "code",
   "execution_count": 92,
   "outputs": [],
   "source": [],
   "metadata": {
    "collapsed": false,
    "ExecuteTime": {
     "start_time": "2023-05-04T20:26:51.473085Z",
     "end_time": "2023-05-04T20:26:51.505794Z"
    }
   }
  }
 ],
 "metadata": {
  "kernelspec": {
   "display_name": "Python 3",
   "language": "python",
   "name": "python3"
  },
  "language_info": {
   "codemirror_mode": {
    "name": "ipython",
    "version": 2
   },
   "file_extension": ".py",
   "mimetype": "text/x-python",
   "name": "python",
   "nbconvert_exporter": "python",
   "pygments_lexer": "ipython2",
   "version": "2.7.6"
  }
 },
 "nbformat": 4,
 "nbformat_minor": 0
}
