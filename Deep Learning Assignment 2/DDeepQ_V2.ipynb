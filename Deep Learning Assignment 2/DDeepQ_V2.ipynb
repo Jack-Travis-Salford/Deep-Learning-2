{
 "cells": [
  {
   "cell_type": "code",
   "execution_count": 8,
   "metadata": {
    "collapsed": true,
    "ExecuteTime": {
     "start_time": "2023-05-05T00:53:33.960637Z",
     "end_time": "2023-05-05T00:53:33.965733Z"
    }
   },
   "outputs": [],
   "source": [
    "import numpy as np\n",
    "import gym\n",
    "import tensorflow as tf\n",
    "#from tensorflow.keras.layers import Dense, Flatten\n",
    "from keras.layers import Dense, Flatten\n",
    "#from tensorflow.keras.models import Sequential\n",
    "from keras.models import Sequential\n",
    "#from tensorflow.keras.optimizers import RMSprop\n",
    "from keras import optimizers\n",
    "\n",
    "from rl.agents.dqn import DQNAgent\n",
    "from rl.memory import SequentialMemory\n",
    "from rl.policy import EpsGreedyQPolicy,LinearAnnealedPolicy, BoltzmannQPolicy, GreedyQPolicy, MaxBoltzmannQPolicy, BoltzmannGumbelQPolicy, SoftmaxPolicy\n",
    "from rl.core import Processor"
   ]
  },
  {
   "cell_type": "code",
   "execution_count": 9,
   "outputs": [],
   "source": [
    "def create_agent(states, actions):\n",
    "    model = Sequential()\n",
    "    model.add(Flatten(input_shape = (1,states)))\n",
    "    model.add(Dense(24, activation='relu'))\n",
    "    model.add(Dense(48, activation='relu'))\n",
    "    model.add(Dense(48, activation='relu'))\n",
    "    model.add(Dense(24, activation='relu'))\n",
    "    model.add(Dense(actions, activation='linear'))\n",
    "    return model"
   ],
   "metadata": {
    "collapsed": false,
    "ExecuteTime": {
     "start_time": "2023-05-05T00:53:33.965733Z",
     "end_time": "2023-05-05T00:53:33.990590Z"
    }
   }
  },
  {
   "cell_type": "code",
   "execution_count": 10,
   "outputs": [],
   "source": [
    "class TaxiProcessor(Processor):\n",
    "    def process_observation(self, observation):\n",
    "        one_hot = np.zeros(500)\n",
    "        one_hot[observation] = 1\n",
    "        return one_hot\n",
    "\n",
    "    def process_reward(self, reward):\n",
    "        return reward"
   ],
   "metadata": {
    "collapsed": false,
    "ExecuteTime": {
     "start_time": "2023-05-05T00:53:33.979477Z",
     "end_time": "2023-05-05T00:53:33.996709Z"
    }
   }
  },
  {
   "cell_type": "code",
   "execution_count": 11,
   "outputs": [
    {
     "name": "stdout",
     "output_type": "stream",
     "text": [
      "No of state =  500\n",
      "No of actions = 6\n",
      "Model: \"sequential_1\"\n",
      "_________________________________________________________________\n",
      " Layer (type)                Output Shape              Param #   \n",
      "=================================================================\n",
      " flatten_1 (Flatten)         (None, 500)               0         \n",
      "                                                                 \n",
      " dense_5 (Dense)             (None, 24)                12024     \n",
      "                                                                 \n",
      " dense_6 (Dense)             (None, 48)                1200      \n",
      "                                                                 \n",
      " dense_7 (Dense)             (None, 48)                2352      \n",
      "                                                                 \n",
      " dense_8 (Dense)             (None, 24)                1176      \n",
      "                                                                 \n",
      " dense_9 (Dense)             (None, 6)                 150       \n",
      "                                                                 \n",
      "=================================================================\n",
      "Total params: 16,902\n",
      "Trainable params: 16,902\n",
      "Non-trainable params: 0\n",
      "_________________________________________________________________\n"
     ]
    }
   ],
   "source": [
    "env = gym.make(\"Taxi-v3\")\n",
    "print(\"No of state = \", env.observation_space.n)\n",
    "print(\"No of actions =\", env.action_space.n)\n",
    "model = create_agent(500, env.action_space.n)\n",
    "model.summary()"
   ],
   "metadata": {
    "collapsed": false,
    "ExecuteTime": {
     "start_time": "2023-05-05T00:53:33.995709Z",
     "end_time": "2023-05-05T00:53:34.088450Z"
    }
   }
  },
  {
   "cell_type": "code",
   "execution_count": 12,
   "outputs": [],
   "source": [
    "memory = SequentialMemory(limit=800000, window_length=1)\n",
    "processor = TaxiProcessor()\n",
    "\n",
    "policy = LinearAnnealedPolicy(EpsGreedyQPolicy(), attr='eps', value_max=1., value_min=.05, value_test=.005, nb_steps=10000)\n",
    "\n",
    "#policy = LinearAnnealedPolicy(MaxBoltzmannQPolicy(), attr='eps', value_max=1., value_min=.05, value_test=.005, nb_steps=10000)\n",
    "dqn = DQNAgent(model=model, nb_actions=env.action_space.n, processor=processor, memory=memory, nb_steps_warmup=1000, gamma=0.99, policy=policy, enable_double_dqn=True, target_model_update=5e-3)\n",
    "\n"
   ],
   "metadata": {
    "collapsed": false,
    "ExecuteTime": {
     "start_time": "2023-05-05T00:53:34.087443Z",
     "end_time": "2023-05-05T00:53:34.131348Z"
    }
   }
  },
  {
   "cell_type": "code",
   "execution_count": 13,
   "outputs": [
    {
     "name": "stdout",
     "output_type": "stream",
     "text": [
      "Training for 250000 steps ...\n",
      "Interval 1 (0 steps performed)\n",
      "10000/10000 [==============================] - 71s 7ms/step - reward: -2.5843\n",
      "51 episodes - episode_reward: -503.804 [-803.000, -15.000] - loss: 0.772 - mae: 13.752 - mean_q: -12.985 - mean_eps: 0.478 - prob: 1.000\n",
      "\n",
      "Interval 2 (10000 steps performed)\n",
      "10000/10000 [==============================] - 80s 8ms/step - reward: -1.1329\n",
      "53 episodes - episode_reward: -212.642 [-263.000, 9.000] - loss: 2.184 - mae: 25.523 - mean_q: -26.340 - mean_eps: 0.050 - prob: 1.000\n",
      "\n",
      "Interval 3 (20000 steps performed)\n",
      "10000/10000 [==============================] - 83s 8ms/step - reward: -1.1953\n",
      "50 episodes - episode_reward: -239.960 [-668.000, -200.000] - loss: 3.714 - mae: 25.582 - mean_q: -22.653 - mean_eps: 0.050 - prob: 1.000\n",
      "\n",
      "Interval 4 (30000 steps performed)\n",
      "10000/10000 [==============================] - 85s 9ms/step - reward: -1.1053\n",
      "55 episodes - episode_reward: -203.691 [-254.000, -1.000] - loss: 1.700 - mae: 17.218 - mean_q: -15.646 - mean_eps: 0.050 - prob: 1.000\n",
      "\n",
      "Interval 5 (40000 steps performed)\n",
      "10000/10000 [==============================] - 84s 8ms/step - reward: -1.1914\n",
      "58 episodes - episode_reward: -204.655 [-605.000, 14.000] - loss: 2.100 - mae: 20.656 - mean_q: -17.614 - mean_eps: 0.050 - prob: 1.000\n",
      "\n",
      "Interval 6 (50000 steps performed)\n",
      "10000/10000 [==============================] - 86s 9ms/step - reward: -1.1491\n",
      "72 episodes - episode_reward: -158.056 [-722.000, 14.000] - loss: 2.281 - mae: 20.828 - mean_q: -17.123 - mean_eps: 0.050 - prob: 1.000\n",
      "\n",
      "Interval 7 (60000 steps performed)\n",
      "10000/10000 [==============================] - 88s 9ms/step - reward: -1.0471\n",
      "89 episodes - episode_reward: -117.753 [-281.000, 13.000] - loss: 2.379 - mae: 22.506 - mean_q: -18.625 - mean_eps: 0.050 - prob: 1.000\n",
      "\n",
      "Interval 8 (70000 steps performed)\n",
      "10000/10000 [==============================] - 99s 10ms/step - reward: -1.0084\n",
      "95 episodes - episode_reward: -105.537 [-254.000, 14.000] - loss: 2.683 - mae: 21.263 - mean_q: -15.183 - mean_eps: 0.050 - prob: 1.000\n",
      "\n",
      "Interval 9 (80000 steps performed)\n",
      "10000/10000 [==============================] - 92s 9ms/step - reward: -1.0063\n",
      "108 episodes - episode_reward: -93.759 [-281.000, 14.000] - loss: 2.214 - mae: 18.570 - mean_q: -11.886 - mean_eps: 0.050 - prob: 1.000\n",
      "\n",
      "Interval 10 (90000 steps performed)\n",
      "10000/10000 [==============================] - 97s 10ms/step - reward: -1.0480\n",
      "160 episodes - episode_reward: -66.463 [-886.000, 13.000] - loss: 1.980 - mae: 18.202 - mean_q: -11.564 - mean_eps: 0.050 - prob: 1.000\n",
      "\n",
      "Interval 11 (100000 steps performed)\n",
      "10000/10000 [==============================] - 98s 10ms/step - reward: -0.9274\n",
      "146 episodes - episode_reward: -61.870 [-272.000, 13.000] - loss: 2.175 - mae: 19.337 - mean_q: -12.574 - mean_eps: 0.050 - prob: 1.000\n",
      "\n",
      "Interval 12 (110000 steps performed)\n",
      "10000/10000 [==============================] - 96s 10ms/step - reward: -0.8968\n",
      "160 episodes - episode_reward: -56.362 [-272.000, 13.000] - loss: 2.745 - mae: 22.229 - mean_q: -16.196 - mean_eps: 0.050 - prob: 1.000\n",
      "\n",
      "Interval 13 (120000 steps performed)\n",
      "10000/10000 [==============================] - 102s 10ms/step - reward: -0.8650\n",
      "178 episodes - episode_reward: -48.438 [-272.000, 15.000] - loss: 3.253 - mae: 24.262 - mean_q: -18.829 - mean_eps: 0.050 - prob: 1.000\n",
      "\n",
      "Interval 14 (130000 steps performed)\n",
      "10000/10000 [==============================] - 107s 11ms/step - reward: -0.7981\n",
      "193 episodes - episode_reward: -42.187 [-263.000, 15.000] - loss: 3.449 - mae: 25.500 - mean_q: -20.476 - mean_eps: 0.050 - prob: 1.000\n",
      "\n",
      "Interval 15 (140000 steps performed)\n",
      "10000/10000 [==============================] - 103s 10ms/step - reward: -0.8917\n",
      "154 episodes - episode_reward: -58.253 [-254.000, 15.000] - loss: 3.717 - mae: 26.292 - mean_q: -21.595 - mean_eps: 0.050 - prob: 1.000\n",
      "\n",
      "Interval 16 (150000 steps performed)\n",
      "10000/10000 [==============================] - 110s 11ms/step - reward: -0.7171\n",
      "227 episodes - episode_reward: -31.604 [-263.000, 15.000] - loss: 3.832 - mae: 26.415 - mean_q: -21.998 - mean_eps: 0.050 - prob: 1.000\n",
      "\n",
      "Interval 17 (160000 steps performed)\n",
      "10000/10000 [==============================] - 116s 12ms/step - reward: -0.8737\n",
      "202 episodes - episode_reward: -43.238 [-1361.000, 14.000] - loss: 2.228 - mae: 15.555 - mean_q: -7.122 - mean_eps: 0.050 - prob: 1.000\n",
      "\n",
      "Interval 18 (170000 steps performed)\n",
      "10000/10000 [==============================] - 122s 12ms/step - reward: -0.7840\n",
      "256 episodes - episode_reward: -30.609 [-1198.000, 15.000] - loss: 0.310 - mae: 5.273 - mean_q: 6.807 - mean_eps: 0.050 - prob: 1.000\n",
      "\n",
      "Interval 19 (180000 steps performed)\n",
      "10000/10000 [==============================] - 128s 13ms/step - reward: -0.3064\n",
      "414 episodes - episode_reward: -7.413 [-272.000, 15.000] - loss: 0.315 - mae: 5.654 - mean_q: 8.383 - mean_eps: 0.050 - prob: 1.000\n",
      "\n",
      "Interval 20 (190000 steps performed)\n",
      "10000/10000 [==============================] - 130s 13ms/step - reward: 0.2735\n",
      "673 episodes - episode_reward: 4.059 [-245.000, 15.000] - loss: 0.228 - mae: 5.584 - mean_q: 8.854 - mean_eps: 0.050 - prob: 1.000\n",
      "\n",
      "Interval 21 (200000 steps performed)\n",
      "10000/10000 [==============================] - 128s 13ms/step - reward: 0.3740\n",
      "716 episodes - episode_reward: 5.223 [-17.000, 15.000] - loss: 0.207 - mae: 5.713 - mean_q: 9.227 - mean_eps: 0.050 - prob: 1.000\n",
      "\n",
      "Interval 22 (210000 steps performed)\n",
      "10000/10000 [==============================] - 133s 13ms/step - reward: 0.4040\n",
      "726 episodes - episode_reward: 5.581 [-26.000, 15.000] - loss: 0.191 - mae: 5.785 - mean_q: 9.357 - mean_eps: 0.050 - prob: 1.000\n",
      "\n",
      "Interval 23 (220000 steps performed)\n",
      "10000/10000 [==============================] - 127s 13ms/step - reward: 0.3929\n",
      "722 episodes - episode_reward: 5.439 [-20.000, 15.000] - loss: 0.187 - mae: 5.824 - mean_q: 9.441 - mean_eps: 0.050 - prob: 1.000\n",
      "\n",
      "Interval 24 (230000 steps performed)\n",
      "10000/10000 [==============================] - 132s 13ms/step - reward: 0.3686\n",
      "719 episodes - episode_reward: 5.146 [-16.000, 15.000] - loss: 0.176 - mae: 5.912 - mean_q: 9.637 - mean_eps: 0.050 - prob: 1.000\n",
      "\n",
      "Interval 25 (240000 steps performed)\n",
      "10000/10000 [==============================] - 130s 13ms/step - reward: 0.4046\n",
      "done, took 2627.472 seconds\n"
     ]
    },
    {
     "data": {
      "text/plain": "<keras.callbacks.History at 0x24b6dc11390>"
     },
     "execution_count": 13,
     "metadata": {},
     "output_type": "execute_result"
    }
   ],
   "source": [
    "optimizer = tf.keras.optimizers.legacy.RMSprop(lr=1e-3)\n",
    "optimizer1 = optimizers.Adam(lr=1e-3)\n",
    "dqn.compile(optimizer1, metrics=['mae'])\n",
    "dqn.fit(env, nb_steps=250000, visualize=False, verbose=1)"
   ],
   "metadata": {
    "collapsed": false,
    "ExecuteTime": {
     "start_time": "2023-05-05T00:53:34.108603Z",
     "end_time": "2023-05-05T01:37:21.895424Z"
    }
   }
  },
  {
   "cell_type": "code",
   "execution_count": 22,
   "outputs": [
    {
     "name": "stdout",
     "output_type": "stream",
     "text": [
      "Testing for 100 episodes ...\n",
      "Episode 1: reward: 9.000, steps: 12\n",
      "Episode 2: reward: 11.000, steps: 10\n",
      "Episode 3: reward: 5.000, steps: 16\n",
      "Episode 4: reward: 9.000, steps: 12\n",
      "Episode 5: reward: 5.000, steps: 16\n",
      "Episode 6: reward: 10.000, steps: 11\n",
      "Episode 7: reward: 6.000, steps: 15\n",
      "Episode 8: reward: 8.000, steps: 13\n",
      "Episode 9: reward: 10.000, steps: 11\n",
      "Episode 10: reward: 5.000, steps: 16\n",
      "Episode 11: reward: 11.000, steps: 10\n",
      "Episode 12: reward: 9.000, steps: 12\n",
      "Episode 13: reward: 6.000, steps: 15\n",
      "Episode 14: reward: 4.000, steps: 17\n",
      "Episode 15: reward: 4.000, steps: 17\n",
      "Episode 16: reward: 6.000, steps: 15\n",
      "Episode 17: reward: 11.000, steps: 10\n",
      "Episode 18: reward: 8.000, steps: 13\n",
      "Episode 19: reward: 8.000, steps: 13\n",
      "Episode 20: reward: 8.000, steps: 13\n",
      "Episode 21: reward: 4.000, steps: 17\n",
      "Episode 22: reward: 7.000, steps: 14\n",
      "Episode 23: reward: 7.000, steps: 14\n",
      "Episode 24: reward: 14.000, steps: 7\n",
      "Episode 25: reward: 5.000, steps: 16\n",
      "Episode 26: reward: 15.000, steps: 6\n",
      "Episode 27: reward: 9.000, steps: 12\n",
      "Episode 28: reward: 10.000, steps: 11\n",
      "Episode 29: reward: 9.000, steps: 12\n",
      "Episode 30: reward: 6.000, steps: 15\n",
      "Episode 31: reward: 12.000, steps: 9\n",
      "Episode 32: reward: 12.000, steps: 9\n",
      "Episode 33: reward: 12.000, steps: 9\n",
      "Episode 34: reward: 14.000, steps: 7\n",
      "Episode 35: reward: 5.000, steps: 16\n",
      "Episode 36: reward: 12.000, steps: 9\n",
      "Episode 37: reward: 9.000, steps: 12\n",
      "Episode 38: reward: 10.000, steps: 11\n",
      "Episode 39: reward: 9.000, steps: 12\n",
      "Episode 40: reward: 11.000, steps: 10\n",
      "Episode 41: reward: 7.000, steps: 14\n",
      "Episode 42: reward: 5.000, steps: 16\n",
      "Episode 43: reward: 8.000, steps: 13\n",
      "Episode 44: reward: 13.000, steps: 8\n",
      "Episode 45: reward: 5.000, steps: 16\n",
      "Episode 46: reward: 11.000, steps: 10\n",
      "Episode 47: reward: 5.000, steps: 16\n",
      "Episode 48: reward: 9.000, steps: 12\n",
      "Episode 49: reward: 10.000, steps: 11\n",
      "Episode 50: reward: 6.000, steps: 15\n",
      "Episode 51: reward: 7.000, steps: 14\n",
      "Episode 52: reward: 9.000, steps: 12\n",
      "Episode 53: reward: 9.000, steps: 12\n",
      "Episode 54: reward: 9.000, steps: 12\n",
      "Episode 55: reward: 6.000, steps: 15\n",
      "Episode 56: reward: 11.000, steps: 10\n",
      "Episode 57: reward: 4.000, steps: 17\n",
      "Episode 58: reward: 11.000, steps: 10\n",
      "Episode 59: reward: 7.000, steps: 14\n",
      "Episode 60: reward: 9.000, steps: 12\n",
      "Episode 61: reward: 13.000, steps: 8\n",
      "Episode 62: reward: 9.000, steps: 12\n",
      "Episode 63: reward: 8.000, steps: 13\n",
      "Episode 64: reward: 10.000, steps: 11\n",
      "Episode 65: reward: 11.000, steps: 10\n",
      "Episode 66: reward: 6.000, steps: 15\n",
      "Episode 67: reward: 10.000, steps: 11\n",
      "Episode 68: reward: 8.000, steps: 13\n",
      "Episode 69: reward: 7.000, steps: 14\n",
      "Episode 70: reward: 9.000, steps: 12\n",
      "Episode 71: reward: 9.000, steps: 12\n",
      "Episode 72: reward: 13.000, steps: 8\n",
      "Episode 73: reward: 11.000, steps: 10\n",
      "Episode 74: reward: 6.000, steps: 15\n",
      "Episode 75: reward: 12.000, steps: 9\n",
      "Episode 76: reward: 8.000, steps: 13\n",
      "Episode 77: reward: 10.000, steps: 11\n",
      "Episode 78: reward: 8.000, steps: 13\n",
      "Episode 79: reward: 9.000, steps: 12\n",
      "Episode 80: reward: 11.000, steps: 10\n",
      "Episode 81: reward: 5.000, steps: 16\n",
      "Episode 82: reward: 7.000, steps: 14\n",
      "Episode 83: reward: 12.000, steps: 9\n",
      "Episode 84: reward: 7.000, steps: 14\n",
      "Episode 85: reward: 8.000, steps: 13\n",
      "Episode 86: reward: 11.000, steps: 10\n",
      "Episode 87: reward: 9.000, steps: 12\n",
      "Episode 88: reward: 6.000, steps: 15\n",
      "Episode 89: reward: 8.000, steps: 13\n",
      "Episode 90: reward: 7.000, steps: 14\n",
      "Episode 91: reward: 10.000, steps: 11\n",
      "Episode 92: reward: 9.000, steps: 12\n",
      "Episode 93: reward: 4.000, steps: 17\n",
      "Episode 94: reward: 10.000, steps: 11\n",
      "Episode 95: reward: 7.000, steps: 14\n",
      "Episode 96: reward: 8.000, steps: 13\n",
      "Episode 97: reward: 6.000, steps: 15\n",
      "Episode 98: reward: 4.000, steps: 17\n",
      "Episode 99: reward: 9.000, steps: 12\n",
      "Episode 100: reward: 5.000, steps: 16\n"
     ]
    }
   ],
   "source": [
    "env.reset()\n",
    "res = dqn.test(env, nb_episodes=100, visualize=False)\n"
   ],
   "metadata": {
    "collapsed": false,
    "ExecuteTime": {
     "start_time": "2023-05-05T01:50:19.176743Z",
     "end_time": "2023-05-05T01:50:19.867009Z"
    }
   }
  },
  {
   "cell_type": "code",
   "execution_count": 23,
   "outputs": [
    {
     "name": "stdout",
     "output_type": "stream",
     "text": [
      "8.46\n"
     ]
    }
   ],
   "source": [
    "res.history\n",
    "print(np.average(res.history['episode_reward']))"
   ],
   "metadata": {
    "collapsed": false,
    "ExecuteTime": {
     "start_time": "2023-05-05T01:50:20.989209Z",
     "end_time": "2023-05-05T01:50:21.004828Z"
    }
   }
  },
  {
   "cell_type": "code",
   "execution_count": 15,
   "outputs": [],
   "source": [],
   "metadata": {
    "collapsed": false,
    "ExecuteTime": {
     "start_time": "2023-05-05T01:37:22.648535Z",
     "end_time": "2023-05-05T01:37:22.691450Z"
    }
   }
  }
 ],
 "metadata": {
  "kernelspec": {
   "display_name": "Python 3",
   "language": "python",
   "name": "python3"
  },
  "language_info": {
   "codemirror_mode": {
    "name": "ipython",
    "version": 2
   },
   "file_extension": ".py",
   "mimetype": "text/x-python",
   "name": "python",
   "nbconvert_exporter": "python",
   "pygments_lexer": "ipython2",
   "version": "2.7.6"
  }
 },
 "nbformat": 4,
 "nbformat_minor": 0
}
